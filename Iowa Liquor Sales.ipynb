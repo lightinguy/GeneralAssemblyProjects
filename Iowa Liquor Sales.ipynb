{
 "cells": [
  {
   "cell_type": "markdown",
   "metadata": {},
   "source": [
    "Iowa alcohol study.  Using data from 2015 and the first quarter of 2016 I made predictions of the alcohol sales in Iowa for 2016.  I used a linear regression model with cross validation from sklearn.  I used both Ridge and Lasso regression methods and the both improved the model. \n",
    "\n",
    "The data set from Iowa is large so I used the set that was composed of 10% of the full set.   I made my final projections using the full set.  \n",
    "\n",
    "Lessons learned from this exercise...  don't get obsessed with a small number of nulls in a large data set.  I spent too many hours writing code to try and have the computer correct some of its errors.   It was more an excise in python for me.  Since I am still a novice at python that was a good exercise.  Not long after I got my code to work, I learned about a 'map' function that would do what I had written much faster.   The time I spent there could have been spent on other aspects.   It is probably best to build a simple model early on with a simplified data set and then decorate it as you have time.   \n",
    "\n",
    "I was interesting to see how much difference there was in using the full data set after working with the 10% sampling set.   With the small data set my projection of sales increase was about 2.2%  With the large set, it was about 4% (rough average of Lasso and Ridge). Initially, I would have thought there wouldn't have been that much of a difference with a 10% sampling.  \n",
    "\n",
    "I chose to do the first approach. \n",
    "\n",
    "My model of using counties as dummy variables was a fairly simple one.  The scores came out nicely and the projections seemed to be well within reason.  The number of times I have heard in class about using simpler models has had an effect.  \n",
    "\n",
    "Things I enjoyed about this project. There were severeal highs and (very) lows during this. One of them, I referred to earlier about being able to write some code that made the computer use what it knew to correct some nulls.  The fact that I got that to work was satisfying. Another high point was where I had generated a sum of one of the sales column (for each store).   What was frustrating was that even though the info was printed out in front of me, I couldn't access it very easily.  After walking away from it a few hours later it came to mind that what I was looking at looked alot like a dictionary so I tried a 'to_dict\" on it and, thankfully, it worked and the data I wanted was finally easily usable.   I was also nice when, after spending unknown amounts of hours generating the data, I put it into the code for the modeling software and it gave me an answer that wasn't nutty.  \n",
    "\n",
    "Things I didn't like. One of the odder moments was when I had made a data frame what was 1400 by 99 (# stores and the variables).  I wanted to pull out one of the columns from that so it should be 1400,1... it came out with one more row listed...????   1401!!!??   I had several people look at it including Sam.  No one could determine why.  I went back to the start of my code and re-ran it.  It didn't appear again - thank God!.   "
   ]
  },
  {
   "cell_type": "code",
   "execution_count": 636,
   "metadata": {
    "collapsed": false
   },
   "outputs": [
    {
     "name": "stderr",
     "output_type": "stream",
     "text": [
      "/Users/user/anaconda2/lib/python2.7/site-packages/IPython/core/interactiveshell.py:2717: DtypeWarning: Columns (3) have mixed types. Specify dtype option on import or set low_memory=False.\n",
      "  interactivity=interactivity, compiler=compiler, result=result)\n"
     ]
    },
    {
     "data": {
      "text/html": [
       "<div>\n",
       "<table border=\"1\" class=\"dataframe\">\n",
       "  <thead>\n",
       "    <tr style=\"text-align: right;\">\n",
       "      <th></th>\n",
       "      <th>Date</th>\n",
       "      <th>Store Number</th>\n",
       "      <th>City</th>\n",
       "      <th>Zip Code</th>\n",
       "      <th>County Number</th>\n",
       "      <th>County</th>\n",
       "      <th>Category</th>\n",
       "      <th>Category Name</th>\n",
       "      <th>Vendor Number</th>\n",
       "      <th>Item Number</th>\n",
       "      <th>Item Description</th>\n",
       "      <th>Bottle Volume (ml)</th>\n",
       "      <th>State Bottle Cost</th>\n",
       "      <th>State Bottle Retail</th>\n",
       "      <th>Bottles Sold</th>\n",
       "      <th>Sale (Dollars)</th>\n",
       "      <th>Volume Sold (Liters)</th>\n",
       "      <th>Volume Sold (Gallons)</th>\n",
       "    </tr>\n",
       "  </thead>\n",
       "  <tbody>\n",
       "    <tr>\n",
       "      <th>0</th>\n",
       "      <td>03/31/2016</td>\n",
       "      <td>5029</td>\n",
       "      <td>DAVENPORT</td>\n",
       "      <td>52806</td>\n",
       "      <td>82.0</td>\n",
       "      <td>Scott</td>\n",
       "      <td>1022100.0</td>\n",
       "      <td>TEQUILA</td>\n",
       "      <td>370</td>\n",
       "      <td>87152</td>\n",
       "      <td>Avion Silver</td>\n",
       "      <td>375</td>\n",
       "      <td>$9.99</td>\n",
       "      <td>$14.99</td>\n",
       "      <td>12</td>\n",
       "      <td>$179.88</td>\n",
       "      <td>4.5</td>\n",
       "      <td>1.19</td>\n",
       "    </tr>\n",
       "    <tr>\n",
       "      <th>1</th>\n",
       "      <td>03/31/2016</td>\n",
       "      <td>5029</td>\n",
       "      <td>DAVENPORT</td>\n",
       "      <td>52806</td>\n",
       "      <td>82.0</td>\n",
       "      <td>Scott</td>\n",
       "      <td>1022100.0</td>\n",
       "      <td>TEQUILA</td>\n",
       "      <td>395</td>\n",
       "      <td>89197</td>\n",
       "      <td>Jose Cuervo Especial Reposado Tequila</td>\n",
       "      <td>1000</td>\n",
       "      <td>$12.50</td>\n",
       "      <td>$18.75</td>\n",
       "      <td>2</td>\n",
       "      <td>$37.50</td>\n",
       "      <td>2.0</td>\n",
       "      <td>0.53</td>\n",
       "    </tr>\n",
       "    <tr>\n",
       "      <th>2</th>\n",
       "      <td>03/31/2016</td>\n",
       "      <td>4959</td>\n",
       "      <td>CEDAR FALLS</td>\n",
       "      <td>50613</td>\n",
       "      <td>7.0</td>\n",
       "      <td>Black Hawk</td>\n",
       "      <td>1071100.0</td>\n",
       "      <td>AMERICAN COCKTAILS</td>\n",
       "      <td>380</td>\n",
       "      <td>63959</td>\n",
       "      <td>Uv Blue Raspberry Lemonade Pet</td>\n",
       "      <td>1750</td>\n",
       "      <td>$5.97</td>\n",
       "      <td>$8.96</td>\n",
       "      <td>6</td>\n",
       "      <td>$53.76</td>\n",
       "      <td>10.5</td>\n",
       "      <td>2.77</td>\n",
       "    </tr>\n",
       "    <tr>\n",
       "      <th>3</th>\n",
       "      <td>03/31/2016</td>\n",
       "      <td>2190</td>\n",
       "      <td>DES MOINES</td>\n",
       "      <td>50314</td>\n",
       "      <td>77.0</td>\n",
       "      <td>Polk</td>\n",
       "      <td>1031200.0</td>\n",
       "      <td>VODKA FLAVORED</td>\n",
       "      <td>205</td>\n",
       "      <td>40597</td>\n",
       "      <td>New Amsterdam Red Berry</td>\n",
       "      <td>200</td>\n",
       "      <td>$2.24</td>\n",
       "      <td>$3.36</td>\n",
       "      <td>48</td>\n",
       "      <td>$161.28</td>\n",
       "      <td>9.6</td>\n",
       "      <td>2.54</td>\n",
       "    </tr>\n",
       "    <tr>\n",
       "      <th>4</th>\n",
       "      <td>03/31/2016</td>\n",
       "      <td>5240</td>\n",
       "      <td>WEST BRANCH</td>\n",
       "      <td>52358</td>\n",
       "      <td>NaN</td>\n",
       "      <td>NaN</td>\n",
       "      <td>1081200.0</td>\n",
       "      <td>CREAM LIQUEURS</td>\n",
       "      <td>305</td>\n",
       "      <td>73055</td>\n",
       "      <td>Rumchata</td>\n",
       "      <td>750</td>\n",
       "      <td>$12.50</td>\n",
       "      <td>$18.75</td>\n",
       "      <td>6</td>\n",
       "      <td>$112.50</td>\n",
       "      <td>4.5</td>\n",
       "      <td>1.19</td>\n",
       "    </tr>\n",
       "  </tbody>\n",
       "</table>\n",
       "</div>"
      ],
      "text/plain": [
       "         Date  Store Number         City Zip Code  County Number      County  \\\n",
       "0  03/31/2016          5029    DAVENPORT    52806           82.0       Scott   \n",
       "1  03/31/2016          5029    DAVENPORT    52806           82.0       Scott   \n",
       "2  03/31/2016          4959  CEDAR FALLS    50613            7.0  Black Hawk   \n",
       "3  03/31/2016          2190   DES MOINES    50314           77.0        Polk   \n",
       "4  03/31/2016          5240  WEST BRANCH    52358            NaN         NaN   \n",
       "\n",
       "    Category       Category Name  Vendor Number  Item Number  \\\n",
       "0  1022100.0             TEQUILA            370        87152   \n",
       "1  1022100.0             TEQUILA            395        89197   \n",
       "2  1071100.0  AMERICAN COCKTAILS            380        63959   \n",
       "3  1031200.0      VODKA FLAVORED            205        40597   \n",
       "4  1081200.0      CREAM LIQUEURS            305        73055   \n",
       "\n",
       "                        Item Description  Bottle Volume (ml)  \\\n",
       "0                           Avion Silver                 375   \n",
       "1  Jose Cuervo Especial Reposado Tequila                1000   \n",
       "2         Uv Blue Raspberry Lemonade Pet                1750   \n",
       "3                New Amsterdam Red Berry                 200   \n",
       "4                               Rumchata                 750   \n",
       "\n",
       "  State Bottle Cost State Bottle Retail  Bottles Sold Sale (Dollars)  \\\n",
       "0             $9.99              $14.99            12        $179.88   \n",
       "1            $12.50              $18.75             2         $37.50   \n",
       "2             $5.97               $8.96             6         $53.76   \n",
       "3             $2.24               $3.36            48        $161.28   \n",
       "4            $12.50              $18.75             6        $112.50   \n",
       "\n",
       "   Volume Sold (Liters)  Volume Sold (Gallons)  \n",
       "0                   4.5                   1.19  \n",
       "1                   2.0                   0.53  \n",
       "2                  10.5                   2.77  \n",
       "3                   9.6                   2.54  \n",
       "4                   4.5                   1.19  "
      ]
     },
     "execution_count": 636,
     "metadata": {},
     "output_type": "execute_result"
    }
   ],
   "source": [
    "# 1  read in the data with pandas\n",
    "\n",
    "import pandas as pd\n",
    "import patsy\n",
    "import seaborn as sns\n",
    "import matplotlib.pyplot as plt\n",
    "import numpy as np\n",
    "%matplotlib inline\n",
    "plt.rcParams['figure.figsize'] = 8,4\n",
    "\n",
    "## Load the data into a DataFrame  using the 10 percent file \n",
    "#df = pd.read_csv(\"Iowa_Liquor_sales_sample_10pct.csv\")\n",
    "df = pd.read_csv(\"Iowa_Liquor_Sales_reduced.csv\")\n",
    "df.head()\n",
    "#df.shape\n",
    "## Transform the dates if needed, e.g.\n",
    "# df[\"Date\"] = pd.to_datetime(df[\"Date\"], format=\"%m-%d-%y\")"
   ]
  },
  {
   "cell_type": "code",
   "execution_count": 637,
   "metadata": {
    "collapsed": true
   },
   "outputs": [],
   "source": [
    "#2 rename columns with no spaces\n",
    "df.columns=['date','store_num','city','zip','county_num','county','category','cat_name','vendor_num','item_num','item_descrip','bottle_vol_ml','state_bottle_cost','state_bottle_retail','bottles_sold','sales','volume_sold_l','volume_sold_g']"
   ]
  },
  {
   "cell_type": "code",
   "execution_count": 638,
   "metadata": {
    "collapsed": false
   },
   "outputs": [
    {
     "name": "stdout",
     "output_type": "stream",
     "text": [
      "date                    object\n",
      "store_num                int64\n",
      "city                    object\n",
      "zip                     object\n",
      "county_num             float64\n",
      "county                  object\n",
      "category               float64\n",
      "cat_name                object\n",
      "vendor_num               int64\n",
      "item_num                 int64\n",
      "item_descrip            object\n",
      "bottle_vol_ml            int64\n",
      "state_bottle_cost       object\n",
      "state_bottle_retail     object\n",
      "bottles_sold             int64\n",
      "sales                   object\n",
      "volume_sold_l          float64\n",
      "volume_sold_g          float64\n",
      "dtype: object\n",
      "          store_num    county_num      category    vendor_num      item_num  \\\n",
      "count  2.709552e+06  2.698639e+06  2.708773e+06  2.709552e+06  2.709552e+06   \n",
      "mean   3.589071e+03  5.726086e+01  1.043826e+06  2.563901e+02  4.601624e+04   \n",
      "std    9.491083e+02  2.732565e+01  5.003493e+04  1.408757e+02  5.311268e+04   \n",
      "min    2.106000e+03  1.000000e+00  1.011100e+06  1.000000e+01  1.460000e+02   \n",
      "25%    2.604000e+03           NaN           NaN  1.150000e+02  2.682800e+04   \n",
      "50%    3.721000e+03           NaN           NaN  2.600000e+02  3.817600e+04   \n",
      "75%    4.382000e+03           NaN           NaN  3.800000e+02  6.460100e+04   \n",
      "max    9.023000e+03  9.900000e+01  1.701100e+06  9.780000e+02  9.992750e+05   \n",
      "\n",
      "       bottle_vol_ml  bottles_sold  volume_sold_l  volume_sold_g  \n",
      "count   2.709552e+06  2.709552e+06   2.709552e+06   2.709552e+06  \n",
      "mean    9.242111e+02  9.838390e+00   8.921504e+00   2.357017e+00  \n",
      "std     5.464858e+02  2.349863e+01   2.824435e+01   7.461356e+00  \n",
      "min     0.000000e+00  1.000000e+00   0.000000e+00   0.000000e+00  \n",
      "25%     7.500000e+02  2.000000e+00   1.500000e+00   4.000000e-01  \n",
      "50%     7.500000e+02  6.000000e+00   5.250000e+00   1.390000e+00  \n",
      "75%     1.000000e+03  1.200000e+01   1.050000e+01   2.770000e+00  \n",
      "max     2.250000e+05  3.960000e+03   3.960000e+03   1.046120e+03  \n",
      "date                       0\n",
      "store_num                  0\n",
      "city                       0\n",
      "zip                        0\n",
      "county_num             10913\n",
      "county                 10913\n",
      "category                 779\n",
      "cat_name                6109\n",
      "vendor_num                 0\n",
      "item_num                   0\n",
      "item_descrip               0\n",
      "bottle_vol_ml              0\n",
      "state_bottle_cost          0\n",
      "state_bottle_retail        0\n",
      "bottles_sold               0\n",
      "sales                      0\n",
      "volume_sold_l              0\n",
      "volume_sold_g              0\n",
      "dtype: int64\n",
      "RangeIndex(start=0, stop=2709552, step=1)\n",
      "         date  store_num         city    zip  county_num      county  \\\n",
      "0  03/31/2016       5029    DAVENPORT  52806        82.0       Scott   \n",
      "1  03/31/2016       5029    DAVENPORT  52806        82.0       Scott   \n",
      "2  03/31/2016       4959  CEDAR FALLS  50613         7.0  Black Hawk   \n",
      "3  03/31/2016       2190   DES MOINES  50314        77.0        Polk   \n",
      "4  03/31/2016       5240  WEST BRANCH  52358         NaN         NaN   \n",
      "\n",
      "    category            cat_name  vendor_num  item_num  \\\n",
      "0  1022100.0             TEQUILA         370     87152   \n",
      "1  1022100.0             TEQUILA         395     89197   \n",
      "2  1071100.0  AMERICAN COCKTAILS         380     63959   \n",
      "3  1031200.0      VODKA FLAVORED         205     40597   \n",
      "4  1081200.0      CREAM LIQUEURS         305     73055   \n",
      "\n",
      "                            item_descrip  bottle_vol_ml state_bottle_cost  \\\n",
      "0                           Avion Silver            375             $9.99   \n",
      "1  Jose Cuervo Especial Reposado Tequila           1000            $12.50   \n",
      "2         Uv Blue Raspberry Lemonade Pet           1750             $5.97   \n",
      "3                New Amsterdam Red Berry            200             $2.24   \n",
      "4                               Rumchata            750            $12.50   \n",
      "\n",
      "  state_bottle_retail  bottles_sold    sales  volume_sold_l  volume_sold_g  \n",
      "0              $14.99            12  $179.88            4.5           1.19  \n",
      "1              $18.75             2   $37.50            2.0           0.53  \n",
      "2               $8.96             6   $53.76           10.5           2.77  \n",
      "3               $3.36            48  $161.28            9.6           2.54  \n",
      "4              $18.75             6  $112.50            4.5           1.19  \n",
      "               date  store_num             city    zip  county_num  \\\n",
      "2709547  01/05/2015       4696  WEST DES MOINES  50266        77.0   \n",
      "2709548  01/05/2015       2590     CEDAR RAPIDS  52402        57.0   \n",
      "2709549  01/05/2015       3631          AUDUBON  50025         5.0   \n",
      "2709550  01/05/2015       2517           NEWTON  50208        50.0   \n",
      "2709551  01/05/2015       2643         WATERLOO  50701         7.0   \n",
      "\n",
      "             county   category            cat_name  vendor_num  item_num  \\\n",
      "2709547        Polk  1031200.0      VODKA FLAVORED         205     40192   \n",
      "2709548        Linn  1012200.0     SCOTCH WHISKIES         260      5346   \n",
      "2709549     Audubon  1081330.0      PEACH SCHNAPPS          65     82847   \n",
      "2709550      Jasper  1071100.0  AMERICAN COCKTAILS         395     58868   \n",
      "2709551  Black Hawk  1012200.0     SCOTCH WHISKIES         260      5329   \n",
      "\n",
      "                                       item_descrip  bottle_vol_ml  \\\n",
      "2709547                     New Amsterdam Pineapple            375   \n",
      "2709548                          Johnnie Walker Red            750   \n",
      "2709549                          Dekuyper Peachtree           1000   \n",
      "2709550  Jose Cuervo Authentic Strawberry Margarita           1750   \n",
      "2709551                         Johnnie Walker Blue            750   \n",
      "\n",
      "        state_bottle_cost state_bottle_retail  bottles_sold    sales  \\\n",
      "2709547             $3.50               $5.25             6   $31.50   \n",
      "2709548            $14.25              $21.38             4   $85.52   \n",
      "2709549             $7.62              $11.43             2   $22.86   \n",
      "2709550             $8.20              $12.30             6   $73.80   \n",
      "2709551           $130.00             $195.00             1  $195.00   \n",
      "\n",
      "         volume_sold_l  volume_sold_g  \n",
      "2709547           2.25           0.59  \n",
      "2709548           3.00           0.79  \n",
      "2709549           2.00           0.53  \n",
      "2709550          10.50           2.77  \n",
      "2709551           0.75           0.20  \n",
      "               store_num  county_num  category  vendor_num  item_num  \\\n",
      "store_num       1.000000    0.006428 -0.011890   -0.004009 -0.025724   \n",
      "county_num      0.006428    1.000000 -0.007005    0.000799  0.009171   \n",
      "category       -0.011890   -0.007005  1.000000    0.093939  0.111992   \n",
      "vendor_num     -0.004009    0.000799  0.093939    1.000000  0.134106   \n",
      "item_num       -0.025724    0.009171  0.111992    0.134106  1.000000   \n",
      "bottle_vol_ml  -0.057311   -0.026037 -0.006541    0.024174 -0.042872   \n",
      "bottles_sold    0.014656    0.017886  0.001862   -0.000784 -0.001215   \n",
      "volume_sold_l  -0.017166    0.007545 -0.004900   -0.006085 -0.007188   \n",
      "volume_sold_g  -0.017155    0.007555 -0.004892   -0.006081 -0.007178   \n",
      "\n",
      "               bottle_vol_ml  bottles_sold  volume_sold_l  volume_sold_g  \n",
      "store_num          -0.057311      0.014656      -0.017166      -0.017155  \n",
      "county_num         -0.026037      0.017886       0.007545       0.007555  \n",
      "category           -0.006541      0.001862      -0.004900      -0.004892  \n",
      "vendor_num          0.024174     -0.000784      -0.006085      -0.006081  \n",
      "item_num           -0.042872     -0.001215      -0.007188      -0.007178  \n",
      "bottle_vol_ml       1.000000     -0.013334       0.144235       0.144081  \n",
      "bottles_sold       -0.013334      1.000000       0.890409       0.890440  \n",
      "volume_sold_l       0.144235      0.890409       1.000000       1.000000  \n",
      "volume_sold_g       0.144081      0.890440       1.000000       1.000000  \n",
      "None\n"
     ]
    }
   ],
   "source": [
    "#3  explore data analysis\n",
    "\n",
    "def eda(dataframe):\n",
    "   print dataframe.dtypes\n",
    "   print dataframe.describe()\n",
    "#   print dataframe.describe(include='all')\n",
    "   print dataframe.isnull().sum()\n",
    "   print dataframe.index\n",
    "   print dataframe.head()\n",
    "   print dataframe.tail()\n",
    "   print dataframe.corr(method='pearson', min_periods=1)\n",
    "print eda(df)"
   ]
  },
  {
   "cell_type": "markdown",
   "metadata": {},
   "source": [
    "# Clean up the nulls as best as possible and other errors and aspects like dollar signs.  "
   ]
  },
  {
   "cell_type": "code",
   "execution_count": 396,
   "metadata": {
    "collapsed": false
   },
   "outputs": [],
   "source": [
    "#4  Find errant zip code # and replace it.  This line of code tells me the errant code string '712-2'\n",
    "#df.zip = df.zip.astype(int)   #  if you run this you'll get an error that tells you that the string '712-2' is \n",
    "# in the zip code column and is bad.  "
   ]
  },
  {
   "cell_type": "code",
   "execution_count": 639,
   "metadata": {
    "collapsed": false
   },
   "outputs": [
    {
     "data": {
      "text/plain": [
       "28205"
      ]
     },
     "execution_count": 639,
     "metadata": {},
     "output_type": "execute_result"
    }
   ],
   "source": [
    "# 4 find index of errant zip code...\n",
    "list(df[\"zip\"]).index('712-2')"
   ]
  },
  {
   "cell_type": "code",
   "execution_count": null,
   "metadata": {
    "collapsed": true
   },
   "outputs": [],
   "source": [
    "# 5    51529 is zip code for index 114  Dunlap IA"
   ]
  },
  {
   "cell_type": "code",
   "execution_count": 640,
   "metadata": {
    "collapsed": true
   },
   "outputs": [],
   "source": [
    "#6 replace the errant zip code\n",
    "df.loc[28205,'zip'] = 51529       "
   ]
  },
  {
   "cell_type": "code",
   "execution_count": 641,
   "metadata": {
    "collapsed": true
   },
   "outputs": [],
   "source": [
    "#7 remove $s from sales columns  \n",
    "df['sales'] = df['sales'].str.replace('$', '')"
   ]
  },
  {
   "cell_type": "code",
   "execution_count": 642,
   "metadata": {
    "collapsed": false
   },
   "outputs": [],
   "source": [
    "# 8 remove , and float.  sales column\n",
    "\n",
    "df['sales'] = df['sales'].str.replace(',', '').astype(float)"
   ]
  },
  {
   "cell_type": "code",
   "execution_count": 643,
   "metadata": {
    "collapsed": true
   },
   "outputs": [],
   "source": [
    "#9 remove $ and float in the bottle cost and retail columns \n",
    "\n",
    "df['state_bottle_cost'] = df['state_bottle_cost'].str.replace('$', '').astype(float)\n",
    "df['state_bottle_retail'] = df['state_bottle_retail'].str.replace('$', '').astype(float)"
   ]
  },
  {
   "cell_type": "code",
   "execution_count": null,
   "metadata": {
    "collapsed": true
   },
   "outputs": [],
   "source": []
  },
  {
   "cell_type": "code",
   "execution_count": 644,
   "metadata": {
    "collapsed": false
   },
   "outputs": [
    {
     "data": {
      "text/html": [
       "<div>\n",
       "<table border=\"1\" class=\"dataframe\">\n",
       "  <thead>\n",
       "    <tr style=\"text-align: right;\">\n",
       "      <th></th>\n",
       "      <th>city</th>\n",
       "      <th>county</th>\n",
       "    </tr>\n",
       "  </thead>\n",
       "  <tbody>\n",
       "    <tr>\n",
       "      <th>0</th>\n",
       "      <td>DAVENPORT</td>\n",
       "      <td>Scott</td>\n",
       "    </tr>\n",
       "    <tr>\n",
       "      <th>1</th>\n",
       "      <td>DAVENPORT</td>\n",
       "      <td>Scott</td>\n",
       "    </tr>\n",
       "  </tbody>\n",
       "</table>\n",
       "</div>"
      ],
      "text/plain": [
       "        city county\n",
       "0  DAVENPORT  Scott\n",
       "1  DAVENPORT  Scott"
      ]
     },
     "execution_count": 644,
     "metadata": {},
     "output_type": "execute_result"
    }
   ],
   "source": [
    "# 10 \n",
    "#create data frame for elmination of nulls in county column using city information\n",
    "testframe = pd.DataFrame(df, columns=['city','county'])\n",
    "testframe.head(2)\n",
    "#testframe.shape"
   ]
  },
  {
   "cell_type": "code",
   "execution_count": null,
   "metadata": {
    "collapsed": true
   },
   "outputs": [],
   "source": []
  },
  {
   "cell_type": "code",
   "execution_count": 645,
   "metadata": {
    "collapsed": false
   },
   "outputs": [
    {
     "data": {
      "text/plain": [
       "(2698639, 2)"
      ]
     },
     "execution_count": 645,
     "metadata": {},
     "output_type": "execute_result"
    }
   ],
   "source": [
    "#11\n",
    "# drop the 1077 nulls is the new data frame   (10913 for the large data set)\n",
    "\n",
    "dropped_na_rows = testframe.dropna(axis=0)\n",
    "dropped_na_rows.shape"
   ]
  },
  {
   "cell_type": "code",
   "execution_count": 646,
   "metadata": {
    "collapsed": false
   },
   "outputs": [
    {
     "data": {
      "text/plain": [
       "(394, 2)"
      ]
     },
     "execution_count": 646,
     "metadata": {},
     "output_type": "execute_result"
    }
   ],
   "source": [
    "#12 \n",
    "#  eliminate the duplicates in the new data frame \n",
    "dropped_na_rows = dropped_na_rows.drop_duplicates()\n",
    "dropped_na_rows.shape"
   ]
  },
  {
   "cell_type": "code",
   "execution_count": 541,
   "metadata": {
    "collapsed": true
   },
   "outputs": [],
   "source": [
    "counties = dropped_na_rows['county']\n",
    "counties = counties.drop_duplicates()"
   ]
  },
  {
   "cell_type": "code",
   "execution_count": null,
   "metadata": {
    "collapsed": true
   },
   "outputs": [],
   "source": [
    "# 13\n",
    "# use the  city list to create a  dictionary of counties with the city as key\n",
    "clean_ccdict=dict(zip(dropped_na_rows['city'], dropped_na_rows['county']))"
   ]
  },
  {
   "cell_type": "markdown",
   "metadata": {},
   "source": [
    "Below is the code I wrote to step through the data series 'county' to replace the nulls with\n",
    "the correct county name based on the city associated with that entry (row).  Spent too \n",
    "much time writing and trouble shooting this, but I own it.  It does take time to run and the 'map' function is much much faster.  "
   ]
  },
  {
   "cell_type": "code",
   "execution_count": null,
   "metadata": {
    "collapsed": true
   },
   "outputs": [],
   "source": [
    " #  14 \n",
    "# replace zeros in 'county' with the proper name\n",
    "\n",
    "#d = len(df['county'])\n",
    "#print d\n",
    "#for i in range(0,d):\n",
    "#    f = df.loc[i,'county']\n",
    "#    print f\n",
    "#    if f != 0:\n",
    "#        continue\n",
    "#    else:\n",
    "#        if df.loc[i,'city'] not in clean_ccdict:\n",
    "#            continue\n",
    "#        else:\n",
    "#            county = clean_ccdict[df.loc[i,'city']]\n",
    "#            df.loc[i,'county'] = county"
   ]
  },
  {
   "cell_type": "code",
   "execution_count": 648,
   "metadata": {
    "collapsed": false
   },
   "outputs": [],
   "source": [
    "#14\n",
    "# use map to correct the errors in the county with data from city \n",
    "\n",
    "df['county'] = df['city'].map(clean_ccdict)"
   ]
  },
  {
   "cell_type": "code",
   "execution_count": 649,
   "metadata": {
    "collapsed": false
   },
   "outputs": [
    {
     "data": {
      "text/plain": [
       "date                       0\n",
       "store_num                  0\n",
       "city                       0\n",
       "zip                        0\n",
       "county_num             10913\n",
       "county                   178\n",
       "category                 779\n",
       "cat_name                6109\n",
       "vendor_num                 0\n",
       "item_num                   0\n",
       "item_descrip               0\n",
       "bottle_vol_ml              0\n",
       "state_bottle_cost          0\n",
       "state_bottle_retail        0\n",
       "bottles_sold               0\n",
       "sales                      0\n",
       "volume_sold_l              0\n",
       "volume_sold_g              0\n",
       "dtype: int64"
      ]
     },
     "execution_count": 649,
     "metadata": {},
     "output_type": "execute_result"
    }
   ],
   "source": [
    "#15  see how many of the 1077 are fixed\n",
    "df.isnull().sum()"
   ]
  },
  {
   "cell_type": "code",
   "execution_count": null,
   "metadata": {
    "collapsed": true
   },
   "outputs": [],
   "source": [
    "#All but 12 are eliminated (for the 10% data frame  do the same for county_num \n",
    "\n",
    "#(large data set all but 178 are eliminated"
   ]
  },
  {
   "cell_type": "code",
   "execution_count": 650,
   "metadata": {
    "collapsed": false
   },
   "outputs": [
    {
     "data": {
      "text/plain": [
       "(2709552, 2)"
      ]
     },
     "execution_count": 650,
     "metadata": {},
     "output_type": "execute_result"
    }
   ],
   "source": [
    "# 16\n",
    "# create frame for testing of elmination of nulls in county_num\n",
    "cctestframe = pd.DataFrame(df, columns=['county','county_num'])\n",
    "cctestframe.head(3)\n",
    "cctestframe.shape"
   ]
  },
  {
   "cell_type": "code",
   "execution_count": 651,
   "metadata": {
    "collapsed": false
   },
   "outputs": [
    {
     "data": {
      "text/plain": [
       "(2698639, 2)"
      ]
     },
     "execution_count": 651,
     "metadata": {},
     "output_type": "execute_result"
    }
   ],
   "source": [
    "# 17 \n",
    "# drop the  nulls for the county - county_num  dictionary\n",
    "\n",
    "ccdropped_na_rows = cctestframe.dropna(axis=0)\n",
    "ccdropped_na_rows.shape"
   ]
  },
  {
   "cell_type": "code",
   "execution_count": 652,
   "metadata": {
    "collapsed": true
   },
   "outputs": [],
   "source": [
    "# 18\n",
    "# use the clean list to create a clean dictionary of county numbers with the county as key\n",
    "ccclean_ccdict=dict(zip(ccdropped_na_rows['county'], ccdropped_na_rows['county_num']))"
   ]
  },
  {
   "cell_type": "code",
   "execution_count": 653,
   "metadata": {
    "collapsed": true
   },
   "outputs": [],
   "source": [
    "#19\n",
    "# use the dictionary to clean the nulls with map\n",
    "df['county_num'] = df[\"county\"].map(ccclean_ccdict)"
   ]
  },
  {
   "cell_type": "code",
   "execution_count": 654,
   "metadata": {
    "collapsed": false
   },
   "outputs": [
    {
     "data": {
      "text/plain": [
       "date                      0\n",
       "store_num                 0\n",
       "city                      0\n",
       "zip                       0\n",
       "county_num              178\n",
       "county                  178\n",
       "category                779\n",
       "cat_name               6109\n",
       "vendor_num                0\n",
       "item_num                  0\n",
       "item_descrip              0\n",
       "bottle_vol_ml             0\n",
       "state_bottle_cost         0\n",
       "state_bottle_retail       0\n",
       "bottles_sold              0\n",
       "sales                     0\n",
       "volume_sold_l             0\n",
       "volume_sold_g             0\n",
       "dtype: int64"
      ]
     },
     "execution_count": 654,
     "metadata": {},
     "output_type": "execute_result"
    }
   ],
   "source": [
    "# 20 \n",
    "df.isnull().sum()"
   ]
  },
  {
   "cell_type": "code",
   "execution_count": null,
   "metadata": {
    "collapsed": true
   },
   "outputs": [],
   "source": [
    "#All but 12 are eliminated. (small data set)   (178 for the large data set.)\n",
    "#I'll drop them and the nulls in cat_name and category. "
   ]
  },
  {
   "cell_type": "code",
   "execution_count": 655,
   "metadata": {
    "collapsed": true
   },
   "outputs": [],
   "source": [
    "#21  \n",
    "# drop the nulss in county and county_num and  cat_names and category nulls.  \n",
    "\n",
    "df.dropna(inplace = True)"
   ]
  },
  {
   "cell_type": "code",
   "execution_count": 656,
   "metadata": {
    "collapsed": false
   },
   "outputs": [],
   "source": [
    "#22   split out the month and year and create month and year columns \n",
    "\n",
    "x = pd.to_datetime(df['date'])\n",
    "df['year'] = x.dt.year\n",
    "df['month'] = x.dt.month"
   ]
  },
  {
   "cell_type": "code",
   "execution_count": 657,
   "metadata": {
    "collapsed": true
   },
   "outputs": [],
   "source": [
    "# 23 redefine sales to correct errors in sales calculation\n",
    "\n",
    "df['sales'] = df['bottles_sold'] * df['state_bottle_retail'] "
   ]
  },
  {
   "cell_type": "code",
   "execution_count": 658,
   "metadata": {
    "collapsed": false
   },
   "outputs": [
    {
     "data": {
      "text/html": [
       "<div>\n",
       "<table border=\"1\" class=\"dataframe\">\n",
       "  <thead>\n",
       "    <tr style=\"text-align: right;\">\n",
       "      <th></th>\n",
       "      <th>date</th>\n",
       "      <th>store_num</th>\n",
       "      <th>city</th>\n",
       "      <th>zip</th>\n",
       "      <th>county_num</th>\n",
       "      <th>county</th>\n",
       "      <th>category</th>\n",
       "      <th>cat_name</th>\n",
       "      <th>vendor_num</th>\n",
       "      <th>item_num</th>\n",
       "      <th>item_descrip</th>\n",
       "      <th>bottle_vol_ml</th>\n",
       "      <th>state_bottle_cost</th>\n",
       "      <th>state_bottle_retail</th>\n",
       "      <th>bottles_sold</th>\n",
       "      <th>sales</th>\n",
       "      <th>volume_sold_l</th>\n",
       "      <th>volume_sold_g</th>\n",
       "      <th>year</th>\n",
       "      <th>month</th>\n",
       "    </tr>\n",
       "  </thead>\n",
       "  <tbody>\n",
       "    <tr>\n",
       "      <th>0</th>\n",
       "      <td>03/31/2016</td>\n",
       "      <td>5029</td>\n",
       "      <td>DAVENPORT</td>\n",
       "      <td>52806</td>\n",
       "      <td>82.0</td>\n",
       "      <td>Scott</td>\n",
       "      <td>1022100.0</td>\n",
       "      <td>TEQUILA</td>\n",
       "      <td>370</td>\n",
       "      <td>87152</td>\n",
       "      <td>Avion Silver</td>\n",
       "      <td>375</td>\n",
       "      <td>9.99</td>\n",
       "      <td>14.99</td>\n",
       "      <td>12</td>\n",
       "      <td>179.88</td>\n",
       "      <td>4.5</td>\n",
       "      <td>1.19</td>\n",
       "      <td>2016</td>\n",
       "      <td>3</td>\n",
       "    </tr>\n",
       "    <tr>\n",
       "      <th>1</th>\n",
       "      <td>03/31/2016</td>\n",
       "      <td>5029</td>\n",
       "      <td>DAVENPORT</td>\n",
       "      <td>52806</td>\n",
       "      <td>82.0</td>\n",
       "      <td>Scott</td>\n",
       "      <td>1022100.0</td>\n",
       "      <td>TEQUILA</td>\n",
       "      <td>395</td>\n",
       "      <td>89197</td>\n",
       "      <td>Jose Cuervo Especial Reposado Tequila</td>\n",
       "      <td>1000</td>\n",
       "      <td>12.50</td>\n",
       "      <td>18.75</td>\n",
       "      <td>2</td>\n",
       "      <td>37.50</td>\n",
       "      <td>2.0</td>\n",
       "      <td>0.53</td>\n",
       "      <td>2016</td>\n",
       "      <td>3</td>\n",
       "    </tr>\n",
       "    <tr>\n",
       "      <th>2</th>\n",
       "      <td>03/31/2016</td>\n",
       "      <td>4959</td>\n",
       "      <td>CEDAR FALLS</td>\n",
       "      <td>50613</td>\n",
       "      <td>7.0</td>\n",
       "      <td>Black Hawk</td>\n",
       "      <td>1071100.0</td>\n",
       "      <td>AMERICAN COCKTAILS</td>\n",
       "      <td>380</td>\n",
       "      <td>63959</td>\n",
       "      <td>Uv Blue Raspberry Lemonade Pet</td>\n",
       "      <td>1750</td>\n",
       "      <td>5.97</td>\n",
       "      <td>8.96</td>\n",
       "      <td>6</td>\n",
       "      <td>53.76</td>\n",
       "      <td>10.5</td>\n",
       "      <td>2.77</td>\n",
       "      <td>2016</td>\n",
       "      <td>3</td>\n",
       "    </tr>\n",
       "    <tr>\n",
       "      <th>3</th>\n",
       "      <td>03/31/2016</td>\n",
       "      <td>2190</td>\n",
       "      <td>DES MOINES</td>\n",
       "      <td>50314</td>\n",
       "      <td>77.0</td>\n",
       "      <td>Polk</td>\n",
       "      <td>1031200.0</td>\n",
       "      <td>VODKA FLAVORED</td>\n",
       "      <td>205</td>\n",
       "      <td>40597</td>\n",
       "      <td>New Amsterdam Red Berry</td>\n",
       "      <td>200</td>\n",
       "      <td>2.24</td>\n",
       "      <td>3.36</td>\n",
       "      <td>48</td>\n",
       "      <td>161.28</td>\n",
       "      <td>9.6</td>\n",
       "      <td>2.54</td>\n",
       "      <td>2016</td>\n",
       "      <td>3</td>\n",
       "    </tr>\n",
       "    <tr>\n",
       "      <th>4</th>\n",
       "      <td>03/31/2016</td>\n",
       "      <td>5240</td>\n",
       "      <td>WEST BRANCH</td>\n",
       "      <td>52358</td>\n",
       "      <td>16.0</td>\n",
       "      <td>Cedar</td>\n",
       "      <td>1081200.0</td>\n",
       "      <td>CREAM LIQUEURS</td>\n",
       "      <td>305</td>\n",
       "      <td>73055</td>\n",
       "      <td>Rumchata</td>\n",
       "      <td>750</td>\n",
       "      <td>12.50</td>\n",
       "      <td>18.75</td>\n",
       "      <td>6</td>\n",
       "      <td>112.50</td>\n",
       "      <td>4.5</td>\n",
       "      <td>1.19</td>\n",
       "      <td>2016</td>\n",
       "      <td>3</td>\n",
       "    </tr>\n",
       "  </tbody>\n",
       "</table>\n",
       "</div>"
      ],
      "text/plain": [
       "         date  store_num         city    zip  county_num      county  \\\n",
       "0  03/31/2016       5029    DAVENPORT  52806        82.0       Scott   \n",
       "1  03/31/2016       5029    DAVENPORT  52806        82.0       Scott   \n",
       "2  03/31/2016       4959  CEDAR FALLS  50613         7.0  Black Hawk   \n",
       "3  03/31/2016       2190   DES MOINES  50314        77.0        Polk   \n",
       "4  03/31/2016       5240  WEST BRANCH  52358        16.0       Cedar   \n",
       "\n",
       "    category            cat_name  vendor_num  item_num  \\\n",
       "0  1022100.0             TEQUILA         370     87152   \n",
       "1  1022100.0             TEQUILA         395     89197   \n",
       "2  1071100.0  AMERICAN COCKTAILS         380     63959   \n",
       "3  1031200.0      VODKA FLAVORED         205     40597   \n",
       "4  1081200.0      CREAM LIQUEURS         305     73055   \n",
       "\n",
       "                            item_descrip  bottle_vol_ml  state_bottle_cost  \\\n",
       "0                           Avion Silver            375               9.99   \n",
       "1  Jose Cuervo Especial Reposado Tequila           1000              12.50   \n",
       "2         Uv Blue Raspberry Lemonade Pet           1750               5.97   \n",
       "3                New Amsterdam Red Berry            200               2.24   \n",
       "4                               Rumchata            750              12.50   \n",
       "\n",
       "   state_bottle_retail  bottles_sold   sales  volume_sold_l  volume_sold_g  \\\n",
       "0                14.99            12  179.88            4.5           1.19   \n",
       "1                18.75             2   37.50            2.0           0.53   \n",
       "2                 8.96             6   53.76           10.5           2.77   \n",
       "3                 3.36            48  161.28            9.6           2.54   \n",
       "4                18.75             6  112.50            4.5           1.19   \n",
       "\n",
       "   year  month  \n",
       "0  2016      3  \n",
       "1  2016      3  \n",
       "2  2016      3  \n",
       "3  2016      3  \n",
       "4  2016      3  "
      ]
     },
     "execution_count": 658,
     "metadata": {},
     "output_type": "execute_result"
    }
   ],
   "source": [
    "df.head(5)"
   ]
  },
  {
   "cell_type": "markdown",
   "metadata": {},
   "source": [
    "# Start assembling data frames for use as \"X\" and 'y' for model building.  "
   ]
  },
  {
   "cell_type": "code",
   "execution_count": 659,
   "metadata": {
    "collapsed": false
   },
   "outputs": [],
   "source": [
    "# 24 construct county dicitonary using store # and county\n",
    "\n",
    "countytestframe = pd.DataFrame(df, columns=['store_num','county'])"
   ]
  },
  {
   "cell_type": "code",
   "execution_count": 660,
   "metadata": {
    "collapsed": false
   },
   "outputs": [
    {
     "data": {
      "text/plain": [
       "(1400, 2)"
      ]
     },
     "execution_count": 660,
     "metadata": {},
     "output_type": "execute_result"
    }
   ],
   "source": [
    "#25 drop the dups\n",
    "\n",
    "countytestframe = countytestframe.drop_duplicates()\n",
    "countytestframe.shape"
   ]
  },
  {
   "cell_type": "code",
   "execution_count": 661,
   "metadata": {
    "collapsed": true
   },
   "outputs": [],
   "source": [
    "#26  create store number - county dictionary for creating a new data frame for analysis of the data. \n",
    "\n",
    "store_num_county_dict=dict(zip(countytestframe['store_num'], countytestframe['county']))"
   ]
  },
  {
   "cell_type": "code",
   "execution_count": 662,
   "metadata": {
    "collapsed": false
   },
   "outputs": [
    {
     "data": {
      "text/html": [
       "<div>\n",
       "<table border=\"1\" class=\"dataframe\">\n",
       "  <thead>\n",
       "    <tr style=\"text-align: right;\">\n",
       "      <th></th>\n",
       "      <th>0</th>\n",
       "    </tr>\n",
       "  </thead>\n",
       "  <tbody>\n",
       "    <tr>\n",
       "      <th>9001</th>\n",
       "      <td>Johnson</td>\n",
       "    </tr>\n",
       "    <tr>\n",
       "      <th>9002</th>\n",
       "      <td>Scott</td>\n",
       "    </tr>\n",
       "  </tbody>\n",
       "</table>\n",
       "</div>"
      ],
      "text/plain": [
       "            0\n",
       "9001  Johnson\n",
       "9002    Scott"
      ]
     },
     "execution_count": 662,
     "metadata": {},
     "output_type": "execute_result"
    }
   ],
   "source": [
    "\n",
    "# 27 \n",
    "# create iowa_2015 (and iowa_2016) using the store_num_county_dictionary with the store numbers being the index for the data frame\n",
    "\n",
    "iowa_2015 = pd.DataFrame.from_dict(store_num_county_dict, orient='index')\n",
    "iowa_2016 = pd.DataFrame.from_dict(store_num_county_dict, orient='index')\n",
    "#iowa_2015.head(2)\n",
    "iowa_2016.head(2)"
   ]
  },
  {
   "cell_type": "code",
   "execution_count": 663,
   "metadata": {
    "collapsed": false
   },
   "outputs": [
    {
     "data": {
      "text/html": [
       "<div>\n",
       "<table border=\"1\" class=\"dataframe\">\n",
       "  <thead>\n",
       "    <tr style=\"text-align: right;\">\n",
       "      <th></th>\n",
       "      <th>date</th>\n",
       "      <th>store_num</th>\n",
       "      <th>city</th>\n",
       "      <th>zip</th>\n",
       "      <th>county_num</th>\n",
       "      <th>county</th>\n",
       "      <th>category</th>\n",
       "      <th>cat_name</th>\n",
       "      <th>vendor_num</th>\n",
       "      <th>item_num</th>\n",
       "      <th>item_descrip</th>\n",
       "      <th>bottle_vol_ml</th>\n",
       "      <th>state_bottle_cost</th>\n",
       "      <th>state_bottle_retail</th>\n",
       "      <th>bottles_sold</th>\n",
       "      <th>sales</th>\n",
       "      <th>volume_sold_l</th>\n",
       "      <th>volume_sold_g</th>\n",
       "      <th>year</th>\n",
       "      <th>month</th>\n",
       "    </tr>\n",
       "  </thead>\n",
       "  <tbody>\n",
       "    <tr>\n",
       "      <th>0</th>\n",
       "      <td>03/31/2016</td>\n",
       "      <td>5029</td>\n",
       "      <td>DAVENPORT</td>\n",
       "      <td>52806</td>\n",
       "      <td>82.0</td>\n",
       "      <td>Scott</td>\n",
       "      <td>1022100.0</td>\n",
       "      <td>TEQUILA</td>\n",
       "      <td>370</td>\n",
       "      <td>87152</td>\n",
       "      <td>Avion Silver</td>\n",
       "      <td>375</td>\n",
       "      <td>9.99</td>\n",
       "      <td>14.99</td>\n",
       "      <td>12</td>\n",
       "      <td>179.88</td>\n",
       "      <td>4.5</td>\n",
       "      <td>1.19</td>\n",
       "      <td>2016</td>\n",
       "      <td>3</td>\n",
       "    </tr>\n",
       "    <tr>\n",
       "      <th>1</th>\n",
       "      <td>03/31/2016</td>\n",
       "      <td>5029</td>\n",
       "      <td>DAVENPORT</td>\n",
       "      <td>52806</td>\n",
       "      <td>82.0</td>\n",
       "      <td>Scott</td>\n",
       "      <td>1022100.0</td>\n",
       "      <td>TEQUILA</td>\n",
       "      <td>395</td>\n",
       "      <td>89197</td>\n",
       "      <td>Jose Cuervo Especial Reposado Tequila</td>\n",
       "      <td>1000</td>\n",
       "      <td>12.50</td>\n",
       "      <td>18.75</td>\n",
       "      <td>2</td>\n",
       "      <td>37.50</td>\n",
       "      <td>2.0</td>\n",
       "      <td>0.53</td>\n",
       "      <td>2016</td>\n",
       "      <td>3</td>\n",
       "    </tr>\n",
       "    <tr>\n",
       "      <th>2</th>\n",
       "      <td>03/31/2016</td>\n",
       "      <td>4959</td>\n",
       "      <td>CEDAR FALLS</td>\n",
       "      <td>50613</td>\n",
       "      <td>7.0</td>\n",
       "      <td>Black Hawk</td>\n",
       "      <td>1071100.0</td>\n",
       "      <td>AMERICAN COCKTAILS</td>\n",
       "      <td>380</td>\n",
       "      <td>63959</td>\n",
       "      <td>Uv Blue Raspberry Lemonade Pet</td>\n",
       "      <td>1750</td>\n",
       "      <td>5.97</td>\n",
       "      <td>8.96</td>\n",
       "      <td>6</td>\n",
       "      <td>53.76</td>\n",
       "      <td>10.5</td>\n",
       "      <td>2.77</td>\n",
       "      <td>2016</td>\n",
       "      <td>3</td>\n",
       "    </tr>\n",
       "    <tr>\n",
       "      <th>3</th>\n",
       "      <td>03/31/2016</td>\n",
       "      <td>2190</td>\n",
       "      <td>DES MOINES</td>\n",
       "      <td>50314</td>\n",
       "      <td>77.0</td>\n",
       "      <td>Polk</td>\n",
       "      <td>1031200.0</td>\n",
       "      <td>VODKA FLAVORED</td>\n",
       "      <td>205</td>\n",
       "      <td>40597</td>\n",
       "      <td>New Amsterdam Red Berry</td>\n",
       "      <td>200</td>\n",
       "      <td>2.24</td>\n",
       "      <td>3.36</td>\n",
       "      <td>48</td>\n",
       "      <td>161.28</td>\n",
       "      <td>9.6</td>\n",
       "      <td>2.54</td>\n",
       "      <td>2016</td>\n",
       "      <td>3</td>\n",
       "    </tr>\n",
       "    <tr>\n",
       "      <th>4</th>\n",
       "      <td>03/31/2016</td>\n",
       "      <td>5240</td>\n",
       "      <td>WEST BRANCH</td>\n",
       "      <td>52358</td>\n",
       "      <td>16.0</td>\n",
       "      <td>Cedar</td>\n",
       "      <td>1081200.0</td>\n",
       "      <td>CREAM LIQUEURS</td>\n",
       "      <td>305</td>\n",
       "      <td>73055</td>\n",
       "      <td>Rumchata</td>\n",
       "      <td>750</td>\n",
       "      <td>12.50</td>\n",
       "      <td>18.75</td>\n",
       "      <td>6</td>\n",
       "      <td>112.50</td>\n",
       "      <td>4.5</td>\n",
       "      <td>1.19</td>\n",
       "      <td>2016</td>\n",
       "      <td>3</td>\n",
       "    </tr>\n",
       "  </tbody>\n",
       "</table>\n",
       "</div>"
      ],
      "text/plain": [
       "         date  store_num         city    zip  county_num      county  \\\n",
       "0  03/31/2016       5029    DAVENPORT  52806        82.0       Scott   \n",
       "1  03/31/2016       5029    DAVENPORT  52806        82.0       Scott   \n",
       "2  03/31/2016       4959  CEDAR FALLS  50613         7.0  Black Hawk   \n",
       "3  03/31/2016       2190   DES MOINES  50314        77.0        Polk   \n",
       "4  03/31/2016       5240  WEST BRANCH  52358        16.0       Cedar   \n",
       "\n",
       "    category            cat_name  vendor_num  item_num  \\\n",
       "0  1022100.0             TEQUILA         370     87152   \n",
       "1  1022100.0             TEQUILA         395     89197   \n",
       "2  1071100.0  AMERICAN COCKTAILS         380     63959   \n",
       "3  1031200.0      VODKA FLAVORED         205     40597   \n",
       "4  1081200.0      CREAM LIQUEURS         305     73055   \n",
       "\n",
       "                            item_descrip  bottle_vol_ml  state_bottle_cost  \\\n",
       "0                           Avion Silver            375               9.99   \n",
       "1  Jose Cuervo Especial Reposado Tequila           1000              12.50   \n",
       "2         Uv Blue Raspberry Lemonade Pet           1750               5.97   \n",
       "3                New Amsterdam Red Berry            200               2.24   \n",
       "4                               Rumchata            750              12.50   \n",
       "\n",
       "   state_bottle_retail  bottles_sold   sales  volume_sold_l  volume_sold_g  \\\n",
       "0                14.99            12  179.88            4.5           1.19   \n",
       "1                18.75             2   37.50            2.0           0.53   \n",
       "2                 8.96             6   53.76           10.5           2.77   \n",
       "3                 3.36            48  161.28            9.6           2.54   \n",
       "4                18.75             6  112.50            4.5           1.19   \n",
       "\n",
       "   year  month  \n",
       "0  2016      3  \n",
       "1  2016      3  \n",
       "2  2016      3  \n",
       "3  2016      3  \n",
       "4  2016      3  "
      ]
     },
     "execution_count": 663,
     "metadata": {},
     "output_type": "execute_result"
    }
   ],
   "source": [
    "df.head()"
   ]
  },
  {
   "cell_type": "code",
   "execution_count": 664,
   "metadata": {
    "collapsed": false
   },
   "outputs": [
    {
     "data": {
      "text/html": [
       "<div>\n",
       "<table border=\"1\" class=\"dataframe\">\n",
       "  <thead>\n",
       "    <tr style=\"text-align: right;\">\n",
       "      <th></th>\n",
       "      <th>county</th>\n",
       "    </tr>\n",
       "  </thead>\n",
       "  <tbody>\n",
       "    <tr>\n",
       "      <th>9001</th>\n",
       "      <td>Johnson</td>\n",
       "    </tr>\n",
       "    <tr>\n",
       "      <th>9002</th>\n",
       "      <td>Scott</td>\n",
       "    </tr>\n",
       "    <tr>\n",
       "      <th>9010</th>\n",
       "      <td>Warren</td>\n",
       "    </tr>\n",
       "    <tr>\n",
       "      <th>9013</th>\n",
       "      <td>Warren</td>\n",
       "    </tr>\n",
       "    <tr>\n",
       "      <th>9018</th>\n",
       "      <td>Dubuque</td>\n",
       "    </tr>\n",
       "  </tbody>\n",
       "</table>\n",
       "</div>"
      ],
      "text/plain": [
       "       county\n",
       "9001  Johnson\n",
       "9002    Scott\n",
       "9010   Warren\n",
       "9013   Warren\n",
       "9018  Dubuque"
      ]
     },
     "execution_count": 664,
     "metadata": {},
     "output_type": "execute_result"
    }
   ],
   "source": [
    "# 28\n",
    "# rename the '0' column\n",
    "iowa_2015.columns = ['county']\n",
    "iowa_2016.columns = ['county']\n",
    "iowa_2016.head()\n"
   ]
  },
  {
   "cell_type": "code",
   "execution_count": 665,
   "metadata": {
    "collapsed": false
   },
   "outputs": [
    {
     "data": {
      "text/plain": [
       "1400"
      ]
     },
     "execution_count": 665,
     "metadata": {},
     "output_type": "execute_result"
    }
   ],
   "source": [
    "len(iowa_2015)"
   ]
  },
  {
   "cell_type": "code",
   "execution_count": 666,
   "metadata": {
    "collapsed": false
   },
   "outputs": [
    {
     "data": {
      "text/html": [
       "<div>\n",
       "<table border=\"1\" class=\"dataframe\">\n",
       "  <thead>\n",
       "    <tr style=\"text-align: right;\">\n",
       "      <th></th>\n",
       "      <th>county</th>\n",
       "      <th>Q1_2015</th>\n",
       "      <th>2015_total_profit</th>\n",
       "    </tr>\n",
       "  </thead>\n",
       "  <tbody>\n",
       "    <tr>\n",
       "      <th>9001</th>\n",
       "      <td>Johnson</td>\n",
       "      <td>0</td>\n",
       "      <td>0</td>\n",
       "    </tr>\n",
       "    <tr>\n",
       "      <th>9002</th>\n",
       "      <td>Scott</td>\n",
       "      <td>0</td>\n",
       "      <td>0</td>\n",
       "    </tr>\n",
       "    <tr>\n",
       "      <th>9010</th>\n",
       "      <td>Warren</td>\n",
       "      <td>0</td>\n",
       "      <td>0</td>\n",
       "    </tr>\n",
       "    <tr>\n",
       "      <th>9013</th>\n",
       "      <td>Warren</td>\n",
       "      <td>0</td>\n",
       "      <td>0</td>\n",
       "    </tr>\n",
       "    <tr>\n",
       "      <th>9018</th>\n",
       "      <td>Dubuque</td>\n",
       "      <td>0</td>\n",
       "      <td>0</td>\n",
       "    </tr>\n",
       "  </tbody>\n",
       "</table>\n",
       "</div>"
      ],
      "text/plain": [
       "       county  Q1_2015  2015_total_profit\n",
       "9001  Johnson        0                  0\n",
       "9002    Scott        0                  0\n",
       "9010   Warren        0                  0\n",
       "9013   Warren        0                  0\n",
       "9018  Dubuque        0                  0"
      ]
     },
     "execution_count": 666,
     "metadata": {},
     "output_type": "execute_result"
    }
   ],
   "source": [
    "# 29\n",
    "#create a list of zeros to put into iowa_2015['Q1_2015]   and create the Q1_2015 column wiht those zeros.\n",
    "\n",
    "listofzeros = [0] * 1400\n",
    "#listofzeros\n",
    "iowa_2015['Q1_2015'] = listofzeros\n",
    "#iowa_2015['Q2_2015'] = listofzeros\n",
    "#iowa_2015['Q3_2015'] = listofzeros\n",
    "#iowa_2015['Q4_2015'] = listofzeros\n",
    "iowa_2015['2015_total_profit'] = listofzeros\n",
    "iowa_2016['Q1_2016'] = listofzeros\n",
    "#iowa_2015['county'] = listofzeros\n",
    "\n",
    "iowa_2015.head()"
   ]
  },
  {
   "cell_type": "code",
   "execution_count": 667,
   "metadata": {
    "collapsed": false
   },
   "outputs": [
    {
     "data": {
      "text/html": [
       "<div>\n",
       "<table border=\"1\" class=\"dataframe\">\n",
       "  <thead>\n",
       "    <tr style=\"text-align: right;\">\n",
       "      <th></th>\n",
       "      <th>county</th>\n",
       "      <th>Q1_2016</th>\n",
       "    </tr>\n",
       "  </thead>\n",
       "  <tbody>\n",
       "    <tr>\n",
       "      <th>9001</th>\n",
       "      <td>Johnson</td>\n",
       "      <td>0</td>\n",
       "    </tr>\n",
       "    <tr>\n",
       "      <th>9002</th>\n",
       "      <td>Scott</td>\n",
       "      <td>0</td>\n",
       "    </tr>\n",
       "    <tr>\n",
       "      <th>9010</th>\n",
       "      <td>Warren</td>\n",
       "      <td>0</td>\n",
       "    </tr>\n",
       "    <tr>\n",
       "      <th>9013</th>\n",
       "      <td>Warren</td>\n",
       "      <td>0</td>\n",
       "    </tr>\n",
       "    <tr>\n",
       "      <th>9018</th>\n",
       "      <td>Dubuque</td>\n",
       "      <td>0</td>\n",
       "    </tr>\n",
       "  </tbody>\n",
       "</table>\n",
       "</div>"
      ],
      "text/plain": [
       "       county  Q1_2016\n",
       "9001  Johnson        0\n",
       "9002    Scott        0\n",
       "9010   Warren        0\n",
       "9013   Warren        0\n",
       "9018  Dubuque        0"
      ]
     },
     "execution_count": 667,
     "metadata": {},
     "output_type": "execute_result"
    }
   ],
   "source": [
    "iowa_2016.head()"
   ]
  },
  {
   "cell_type": "code",
   "execution_count": 668,
   "metadata": {
    "collapsed": false
   },
   "outputs": [
    {
     "data": {
      "text/plain": [
       "1400"
      ]
     },
     "execution_count": 668,
     "metadata": {},
     "output_type": "execute_result"
    }
   ],
   "source": [
    "#30\n",
    "# create list of store numbers  \n",
    "\n",
    "store_num_list = df['store_num'].tolist()\n",
    "store_num_list = set(store_num_list)\n",
    "len(store_num_list)"
   ]
  },
  {
   "cell_type": "code",
   "execution_count": 503,
   "metadata": {
    "collapsed": false
   },
   "outputs": [
    {
     "data": {
      "text/plain": [
       "['Adair',\n",
       " 'Adams',\n",
       " 'Allamakee',\n",
       " 'Appanoose',\n",
       " 'Audubon',\n",
       " 'Benton',\n",
       " 'Black Hawk',\n",
       " 'Boone',\n",
       " 'Bremer',\n",
       " 'Buchanan',\n",
       " 'Buena Vista',\n",
       " 'Butler',\n",
       " 'Calhoun',\n",
       " 'Carroll',\n",
       " 'Cass',\n",
       " 'Cedar',\n",
       " 'Cerro Gordo',\n",
       " 'Cherokee',\n",
       " 'Chickasaw',\n",
       " 'Clarke',\n",
       " 'Clay',\n",
       " 'Clayton',\n",
       " 'Clinton',\n",
       " 'Crawford',\n",
       " 'Dallas',\n",
       " 'Davis',\n",
       " 'Decatur',\n",
       " 'Delaware',\n",
       " 'Des Moines',\n",
       " 'Dickinson',\n",
       " 'Dubuque',\n",
       " 'Emmet',\n",
       " 'Fayette',\n",
       " 'Floyd',\n",
       " 'Franklin',\n",
       " 'Fremont',\n",
       " 'Greene',\n",
       " 'Grundy',\n",
       " 'Guthrie',\n",
       " 'Hamilton',\n",
       " 'Hancock',\n",
       " 'Hardin',\n",
       " 'Harrison',\n",
       " 'Henry',\n",
       " 'Howard',\n",
       " 'Humboldt',\n",
       " 'Ida',\n",
       " 'Iowa',\n",
       " 'Jackson',\n",
       " 'Jasper',\n",
       " 'Jefferson',\n",
       " 'Johnson',\n",
       " 'Jones',\n",
       " 'Keokuk',\n",
       " 'Kossuth',\n",
       " 'Lee',\n",
       " 'Linn',\n",
       " 'Louisa',\n",
       " 'Lucas',\n",
       " 'Lyon',\n",
       " 'Madison',\n",
       " 'Mahaska',\n",
       " 'Marion',\n",
       " 'Marshall',\n",
       " 'Mills',\n",
       " 'Mitchell',\n",
       " 'Monona',\n",
       " 'Monroe',\n",
       " 'Montgomery',\n",
       " 'Muscatine',\n",
       " \"O'Brien\",\n",
       " 'Osceola',\n",
       " 'Page',\n",
       " 'Palo Alto',\n",
       " 'Plymouth',\n",
       " 'Pocahontas',\n",
       " 'Polk',\n",
       " 'Pottawattamie',\n",
       " 'Poweshiek',\n",
       " 'Ringgold',\n",
       " 'Sac',\n",
       " 'Scott',\n",
       " 'Shelby',\n",
       " 'Sioux',\n",
       " 'Story',\n",
       " 'Tama',\n",
       " 'Taylor',\n",
       " 'Union',\n",
       " 'Van Buren',\n",
       " 'Wapello',\n",
       " 'Warren',\n",
       " 'Washington',\n",
       " 'Wayne',\n",
       " 'Webster',\n",
       " 'Winnebago',\n",
       " 'Winneshiek',\n",
       " 'Woodbury',\n",
       " 'Worth',\n",
       " 'Wright']"
      ]
     },
     "execution_count": 503,
     "metadata": {},
     "output_type": "execute_result"
    }
   ],
   "source": [
    "# create a list of iowa counties and alphabetize them \n",
    "county_list = iowa_2015['county'].tolist()\n",
    "county_list.sort()\n",
    "county_list \n",
    "\n",
    "my_set = set(county_list)\n",
    "my_list = list(my_set)\n",
    "\n",
    "my_list.sort()\n",
    "my_list\n",
    "\n",
    "#first_list = [1,2,3,4]\n",
    "#my_set=set(first_list)\n",
    "#my_list = list(my_set)\n",
    "#list(set(t))\n",
    "#a = pd.Series(data=[1,2,3])\n",
    "#b = pd.Series(data=[4,5,6])\n",
    "#a.name = 'a'\n",
    "#pd.DataFrame(zip(a,b), columns=[a.name, b.name])"
   ]
  },
  {
   "cell_type": "code",
   "execution_count": 669,
   "metadata": {
    "collapsed": false
   },
   "outputs": [
    {
     "data": {
      "text/html": [
       "<div>\n",
       "<table border=\"1\" class=\"dataframe\">\n",
       "  <thead>\n",
       "    <tr style=\"text-align: right;\">\n",
       "      <th></th>\n",
       "      <th>date</th>\n",
       "      <th>store_num</th>\n",
       "      <th>city</th>\n",
       "      <th>zip</th>\n",
       "      <th>county_num</th>\n",
       "      <th>county</th>\n",
       "      <th>category</th>\n",
       "      <th>cat_name</th>\n",
       "      <th>vendor_num</th>\n",
       "      <th>item_num</th>\n",
       "      <th>item_descrip</th>\n",
       "      <th>bottle_vol_ml</th>\n",
       "      <th>state_bottle_cost</th>\n",
       "      <th>state_bottle_retail</th>\n",
       "      <th>bottles_sold</th>\n",
       "      <th>sales</th>\n",
       "      <th>volume_sold_l</th>\n",
       "      <th>volume_sold_g</th>\n",
       "      <th>year</th>\n",
       "      <th>month</th>\n",
       "    </tr>\n",
       "  </thead>\n",
       "  <tbody>\n",
       "    <tr>\n",
       "      <th>2212926</th>\n",
       "      <td>03/31/2015</td>\n",
       "      <td>2508</td>\n",
       "      <td>CEDAR RAPIDS</td>\n",
       "      <td>52405</td>\n",
       "      <td>57.0</td>\n",
       "      <td>Linn</td>\n",
       "      <td>1031080.0</td>\n",
       "      <td>VODKA 80 PROOF</td>\n",
       "      <td>260</td>\n",
       "      <td>37426</td>\n",
       "      <td>Popov Vodka 80 Prf Traveler</td>\n",
       "      <td>750</td>\n",
       "      <td>4.50</td>\n",
       "      <td>6.75</td>\n",
       "      <td>12</td>\n",
       "      <td>81.00</td>\n",
       "      <td>9.00</td>\n",
       "      <td>2.38</td>\n",
       "      <td>2015</td>\n",
       "      <td>3</td>\n",
       "    </tr>\n",
       "    <tr>\n",
       "      <th>2212927</th>\n",
       "      <td>03/31/2015</td>\n",
       "      <td>3942</td>\n",
       "      <td>TOLEDO</td>\n",
       "      <td>52342</td>\n",
       "      <td>86.0</td>\n",
       "      <td>Tama</td>\n",
       "      <td>1022100.0</td>\n",
       "      <td>TEQUILA</td>\n",
       "      <td>65</td>\n",
       "      <td>88540</td>\n",
       "      <td>Hornitos Lime Shot</td>\n",
       "      <td>750</td>\n",
       "      <td>13.64</td>\n",
       "      <td>20.46</td>\n",
       "      <td>3</td>\n",
       "      <td>61.38</td>\n",
       "      <td>2.25</td>\n",
       "      <td>0.59</td>\n",
       "      <td>2015</td>\n",
       "      <td>3</td>\n",
       "    </tr>\n",
       "  </tbody>\n",
       "</table>\n",
       "</div>"
      ],
      "text/plain": [
       "               date  store_num          city    zip  county_num county  \\\n",
       "2212926  03/31/2015       2508  CEDAR RAPIDS  52405        57.0   Linn   \n",
       "2212927  03/31/2015       3942        TOLEDO  52342        86.0   Tama   \n",
       "\n",
       "          category        cat_name  vendor_num  item_num  \\\n",
       "2212926  1031080.0  VODKA 80 PROOF         260     37426   \n",
       "2212927  1022100.0         TEQUILA          65     88540   \n",
       "\n",
       "                        item_descrip  bottle_vol_ml  state_bottle_cost  \\\n",
       "2212926  Popov Vodka 80 Prf Traveler            750               4.50   \n",
       "2212927           Hornitos Lime Shot            750              13.64   \n",
       "\n",
       "         state_bottle_retail  bottles_sold  sales  volume_sold_l  \\\n",
       "2212926                 6.75            12  81.00           9.00   \n",
       "2212927                20.46             3  61.38           2.25   \n",
       "\n",
       "         volume_sold_g  year  month  \n",
       "2212926           2.38  2015      3  \n",
       "2212927           0.59  2015      3  "
      ]
     },
     "execution_count": 669,
     "metadata": {},
     "output_type": "execute_result"
    }
   ],
   "source": [
    "# 31\n",
    "\n",
    "# create the data frames for the quarters of 2015    \n",
    "\n",
    "Q1_2015 = df[((df['month'] == 1)|(df['month'] == 2)|(df['month'] == 3)) & (df['year'] == 2015)]\n",
    "Q2_2015 = df[((df['month'] == 4)|(df['month'] == 5)|(df['month'] == 6)) & (df['year'] == 2015)]\n",
    "Q3_2015 = df[((df['month'] == 7)|(df['month'] == 8)|(df['month'] == 9)) & (df['year'] == 2015)]\n",
    "Q4_2015 = df[((df['month'] == 10)|(df['month'] == 11)|(df['month'] == 12)) & (df['year'] == 2015)]\n",
    "Total_2015 = df[df['year'] == 2015]\n",
    "Q1_2015.head(2)"
   ]
  },
  {
   "cell_type": "code",
   "execution_count": 670,
   "metadata": {
    "collapsed": false
   },
   "outputs": [
    {
     "data": {
      "text/html": [
       "<div>\n",
       "<table border=\"1\" class=\"dataframe\">\n",
       "  <thead>\n",
       "    <tr style=\"text-align: right;\">\n",
       "      <th></th>\n",
       "      <th>date</th>\n",
       "      <th>store_num</th>\n",
       "      <th>city</th>\n",
       "      <th>zip</th>\n",
       "      <th>county_num</th>\n",
       "      <th>county</th>\n",
       "      <th>category</th>\n",
       "      <th>cat_name</th>\n",
       "      <th>vendor_num</th>\n",
       "      <th>item_num</th>\n",
       "      <th>item_descrip</th>\n",
       "      <th>bottle_vol_ml</th>\n",
       "      <th>state_bottle_cost</th>\n",
       "      <th>state_bottle_retail</th>\n",
       "      <th>bottles_sold</th>\n",
       "      <th>sales</th>\n",
       "      <th>volume_sold_l</th>\n",
       "      <th>volume_sold_g</th>\n",
       "      <th>year</th>\n",
       "      <th>month</th>\n",
       "    </tr>\n",
       "  </thead>\n",
       "  <tbody>\n",
       "    <tr>\n",
       "      <th>0</th>\n",
       "      <td>03/31/2016</td>\n",
       "      <td>5029</td>\n",
       "      <td>DAVENPORT</td>\n",
       "      <td>52806</td>\n",
       "      <td>82.0</td>\n",
       "      <td>Scott</td>\n",
       "      <td>1022100.0</td>\n",
       "      <td>TEQUILA</td>\n",
       "      <td>370</td>\n",
       "      <td>87152</td>\n",
       "      <td>Avion Silver</td>\n",
       "      <td>375</td>\n",
       "      <td>9.99</td>\n",
       "      <td>14.99</td>\n",
       "      <td>12</td>\n",
       "      <td>179.88</td>\n",
       "      <td>4.5</td>\n",
       "      <td>1.19</td>\n",
       "      <td>2016</td>\n",
       "      <td>3</td>\n",
       "    </tr>\n",
       "  </tbody>\n",
       "</table>\n",
       "</div>"
      ],
      "text/plain": [
       "         date  store_num       city    zip  county_num county   category  \\\n",
       "0  03/31/2016       5029  DAVENPORT  52806        82.0  Scott  1022100.0   \n",
       "\n",
       "  cat_name  vendor_num  item_num  item_descrip  bottle_vol_ml  \\\n",
       "0  TEQUILA         370     87152  Avion Silver            375   \n",
       "\n",
       "   state_bottle_cost  state_bottle_retail  bottles_sold   sales  \\\n",
       "0               9.99                14.99            12  179.88   \n",
       "\n",
       "   volume_sold_l  volume_sold_g  year  month  \n",
       "0            4.5           1.19  2016      3  "
      ]
     },
     "execution_count": 670,
     "metadata": {},
     "output_type": "execute_result"
    }
   ],
   "source": [
    "#32 create data frame for the 1st quarter of 2016\n",
    "\n",
    "Q1_2016 = df[((df['month'] == 1)|(df['month'] == 2)|(df['month'] == 3)) & (df['year'] == 2016)]\n",
    "Q1_2016.head(1)"
   ]
  },
  {
   "cell_type": "code",
   "execution_count": 671,
   "metadata": {
    "collapsed": true
   },
   "outputs": [],
   "source": [
    "#33 dictionary fof 2016 for summing sales for each store  \n",
    "\n",
    "Q1_2016_dict = Q1_2016.groupby('store_num').sales.sum().to_dict()"
   ]
  },
  {
   "cell_type": "code",
   "execution_count": 672,
   "metadata": {
    "collapsed": false
   },
   "outputs": [
    {
     "name": "stdout",
     "output_type": "stream",
     "text": [
      "[62.96131698002593, 72.34904149003236, 68.59421117003636, 80.10077482003047]\n"
     ]
    }
   ],
   "source": [
    "#34  create a list of sales by quarter for 2015.  \n",
    "quarterlist2015= []\n",
    "#Q3_2015['sales'].sum()\n",
    "#Q2_2015.head(2)\n",
    "\n",
    "#Q2_2015.head()\n",
    "quarterlist2015.append(Q1_2015['sales'].sum()/1000000)\n",
    "quarterlist2015.append(Q2_2015['sales'].sum()/1000000)\n",
    "quarterlist2015.append(Q3_2015['sales'].sum()/1000000)\n",
    "quarterlist2015.append(Q4_2015['sales'].sum()/1000000)\n",
    "\n",
    "print quarterlist2015"
   ]
  },
  {
   "cell_type": "code",
   "execution_count": 673,
   "metadata": {
    "collapsed": true
   },
   "outputs": [],
   "source": [
    "# 35\n",
    "# create the dictionaries with the sum Q1_2015 sales numbers for all of the store numbers. keyed on the store number  woo-hoo!  \n",
    "\n",
    "Q1_2015_dict = Q1_2015.groupby('store_num').sales.sum().to_dict()\n",
    "#Q2_2015_dict = Q2_2015.groupby('store_num').sales.sum().to_dict()\n",
    "#Q3_2015_dict = Q3_2015.groupby('store_num').sales.sum().to_dict()\n",
    "#Q4_2015_dict = Q4_2015.groupby('store_num').sales.sum().to_dict()\n",
    "Total_2015_dict = Total_2015.groupby('store_num').sales.sum().to_dict()"
   ]
  },
  {
   "cell_type": "code",
   "execution_count": 674,
   "metadata": {
    "collapsed": false
   },
   "outputs": [],
   "source": [
    "#36\n",
    "# use Q1_2015_dict to replace zeros in iowa_2015 with the first quarter numbers  from Q1_2015\n",
    "\n",
    "for i in store_num_list:\n",
    "    iowa_2015.loc[i,'store_num'] = i\n",
    "    if i in Q1_2015_dict:\n",
    "        iowa_2015.loc[i,'Q1_2015'] = Q1_2015_dict[i]\n",
    "#    if i in Q2_2015_dict:\n",
    "#        iowa_2015.loc[i,'Q2_2015'] = Q2_2015_dict[i]\n",
    "#    if i in Q3_2015_dict:\n",
    "#        iowa_2015.loc[i,'Q3_2015'] = Q3_2015_dict[i]\n",
    "#    if i in Q4_2015_dict:\n",
    "#        iowa_2015.loc[i,'Q4_2015'] = Q4_2015_dict[i]\n",
    "    if i in Total_2015_dict:\n",
    "        iowa_2015.loc[i,'2015_total_profit'] = Total_2015_dict[i]\n",
    "    if i in Q1_2016_dict:\n",
    "        iowa_2016.loc[i,'Q1_2016'] = Q1_2016_dict[i]"
   ]
  },
  {
   "cell_type": "code",
   "execution_count": 675,
   "metadata": {
    "collapsed": false
   },
   "outputs": [
    {
     "data": {
      "text/html": [
       "<div>\n",
       "<table border=\"1\" class=\"dataframe\">\n",
       "  <thead>\n",
       "    <tr style=\"text-align: right;\">\n",
       "      <th></th>\n",
       "      <th>county</th>\n",
       "      <th>Q1_2015</th>\n",
       "      <th>2015_total_profit</th>\n",
       "      <th>store_num</th>\n",
       "    </tr>\n",
       "  </thead>\n",
       "  <tbody>\n",
       "    <tr>\n",
       "      <th>9001</th>\n",
       "      <td>Johnson</td>\n",
       "      <td>42762.24</td>\n",
       "      <td>191820.12</td>\n",
       "      <td>9001.0</td>\n",
       "    </tr>\n",
       "    <tr>\n",
       "      <th>9002</th>\n",
       "      <td>Scott</td>\n",
       "      <td>44636.28</td>\n",
       "      <td>327676.62</td>\n",
       "      <td>9002.0</td>\n",
       "    </tr>\n",
       "    <tr>\n",
       "      <th>9010</th>\n",
       "      <td>Warren</td>\n",
       "      <td>11707.62</td>\n",
       "      <td>26209.38</td>\n",
       "      <td>9010.0</td>\n",
       "    </tr>\n",
       "    <tr>\n",
       "      <th>9013</th>\n",
       "      <td>Warren</td>\n",
       "      <td>825.60</td>\n",
       "      <td>30957.66</td>\n",
       "      <td>9013.0</td>\n",
       "    </tr>\n",
       "    <tr>\n",
       "      <th>9018</th>\n",
       "      <td>Dubuque</td>\n",
       "      <td>0.00</td>\n",
       "      <td>21825.00</td>\n",
       "      <td>9018.0</td>\n",
       "    </tr>\n",
       "  </tbody>\n",
       "</table>\n",
       "</div>"
      ],
      "text/plain": [
       "       county   Q1_2015  2015_total_profit  store_num\n",
       "9001  Johnson  42762.24          191820.12     9001.0\n",
       "9002    Scott  44636.28          327676.62     9002.0\n",
       "9010   Warren  11707.62           26209.38     9010.0\n",
       "9013   Warren    825.60           30957.66     9013.0\n",
       "9018  Dubuque      0.00           21825.00     9018.0"
      ]
     },
     "execution_count": 675,
     "metadata": {},
     "output_type": "execute_result"
    }
   ],
   "source": [
    "iowa_2015.head()"
   ]
  },
  {
   "cell_type": "code",
   "execution_count": 676,
   "metadata": {
    "collapsed": false
   },
   "outputs": [
    {
     "data": {
      "text/html": [
       "<div>\n",
       "<table border=\"1\" class=\"dataframe\">\n",
       "  <thead>\n",
       "    <tr style=\"text-align: right;\">\n",
       "      <th></th>\n",
       "      <th>county</th>\n",
       "      <th>Q1_2016</th>\n",
       "    </tr>\n",
       "  </thead>\n",
       "  <tbody>\n",
       "    <tr>\n",
       "      <th>9001</th>\n",
       "      <td>Johnson</td>\n",
       "      <td>22355.76</td>\n",
       "    </tr>\n",
       "    <tr>\n",
       "      <th>9002</th>\n",
       "      <td>Scott</td>\n",
       "      <td>28283.60</td>\n",
       "    </tr>\n",
       "    <tr>\n",
       "      <th>9010</th>\n",
       "      <td>Warren</td>\n",
       "      <td>697.44</td>\n",
       "    </tr>\n",
       "    <tr>\n",
       "      <th>9013</th>\n",
       "      <td>Warren</td>\n",
       "      <td>6191.34</td>\n",
       "    </tr>\n",
       "    <tr>\n",
       "      <th>9018</th>\n",
       "      <td>Dubuque</td>\n",
       "      <td>0.00</td>\n",
       "    </tr>\n",
       "  </tbody>\n",
       "</table>\n",
       "</div>"
      ],
      "text/plain": [
       "       county   Q1_2016\n",
       "9001  Johnson  22355.76\n",
       "9002    Scott  28283.60\n",
       "9010   Warren    697.44\n",
       "9013   Warren   6191.34\n",
       "9018  Dubuque      0.00"
      ]
     },
     "execution_count": 676,
     "metadata": {},
     "output_type": "execute_result"
    }
   ],
   "source": [
    "iowa_2016.head()"
   ]
  },
  {
   "cell_type": "code",
   "execution_count": 677,
   "metadata": {
    "collapsed": false
   },
   "outputs": [
    {
     "data": {
      "text/plain": [
       "(1400, 4)"
      ]
     },
     "execution_count": 677,
     "metadata": {},
     "output_type": "execute_result"
    }
   ],
   "source": [
    "iowa_2015.shape"
   ]
  },
  {
   "cell_type": "code",
   "execution_count": 678,
   "metadata": {
    "collapsed": false
   },
   "outputs": [],
   "source": [
    "#37 eliminate stores with zero sales in a quarter and less than $300 in sales.  (Note: the name of the column is 2015_total_profit\n",
    "#which refers to earlier when I was using profits instead of sales I changed to using  sales but kept the label in my code.  )\n",
    "\n",
    "goodiowastores = iowa_2015[(iowa_2015['Q1_2015'] != 0)  &  (iowa_2015['2015_total_profit'] > 300)]"
   ]
  },
  {
   "cell_type": "code",
   "execution_count": null,
   "metadata": {
    "collapsed": true
   },
   "outputs": [],
   "source": [
    "#38 eliminate stores with a zero quarter of sales \n",
    "\n",
    "goodiowa2016 = iowa_2016[(iowa_2016['Q1_2016'] != 0) ]\n",
    "goodiowa2016.head()"
   ]
  },
  {
   "cell_type": "markdown",
   "metadata": {},
   "source": [
    "# add dummy variables to the 2015 and 2016 data frames"
   ]
  },
  {
   "cell_type": "code",
   "execution_count": 680,
   "metadata": {
    "collapsed": false
   },
   "outputs": [
    {
     "data": {
      "text/html": [
       "<div>\n",
       "<table border=\"1\" class=\"dataframe\">\n",
       "  <thead>\n",
       "    <tr style=\"text-align: right;\">\n",
       "      <th></th>\n",
       "      <th>Q1_2016</th>\n",
       "      <th>Allamakee</th>\n",
       "      <th>Appanoose</th>\n",
       "      <th>Audubon</th>\n",
       "      <th>Benton</th>\n",
       "      <th>Black Hawk</th>\n",
       "      <th>Boone</th>\n",
       "      <th>Bremer</th>\n",
       "      <th>Buchanan</th>\n",
       "      <th>Buena Vista</th>\n",
       "      <th>...</th>\n",
       "      <th>Wapello</th>\n",
       "      <th>Warren</th>\n",
       "      <th>Washington</th>\n",
       "      <th>Wayne</th>\n",
       "      <th>Webster</th>\n",
       "      <th>Winnebago</th>\n",
       "      <th>Winneshiek</th>\n",
       "      <th>Woodbury</th>\n",
       "      <th>Worth</th>\n",
       "      <th>Wright</th>\n",
       "    </tr>\n",
       "  </thead>\n",
       "  <tbody>\n",
       "    <tr>\n",
       "      <th>9001</th>\n",
       "      <td>22355.76</td>\n",
       "      <td>0.0</td>\n",
       "      <td>0.0</td>\n",
       "      <td>0.0</td>\n",
       "      <td>0.0</td>\n",
       "      <td>0.0</td>\n",
       "      <td>0.0</td>\n",
       "      <td>0.0</td>\n",
       "      <td>0.0</td>\n",
       "      <td>0.0</td>\n",
       "      <td>...</td>\n",
       "      <td>0.0</td>\n",
       "      <td>0.0</td>\n",
       "      <td>0.0</td>\n",
       "      <td>0.0</td>\n",
       "      <td>0.0</td>\n",
       "      <td>0.0</td>\n",
       "      <td>0.0</td>\n",
       "      <td>0.0</td>\n",
       "      <td>0.0</td>\n",
       "      <td>0.0</td>\n",
       "    </tr>\n",
       "    <tr>\n",
       "      <th>9002</th>\n",
       "      <td>28283.60</td>\n",
       "      <td>0.0</td>\n",
       "      <td>0.0</td>\n",
       "      <td>0.0</td>\n",
       "      <td>0.0</td>\n",
       "      <td>0.0</td>\n",
       "      <td>0.0</td>\n",
       "      <td>0.0</td>\n",
       "      <td>0.0</td>\n",
       "      <td>0.0</td>\n",
       "      <td>...</td>\n",
       "      <td>0.0</td>\n",
       "      <td>0.0</td>\n",
       "      <td>0.0</td>\n",
       "      <td>0.0</td>\n",
       "      <td>0.0</td>\n",
       "      <td>0.0</td>\n",
       "      <td>0.0</td>\n",
       "      <td>0.0</td>\n",
       "      <td>0.0</td>\n",
       "      <td>0.0</td>\n",
       "    </tr>\n",
       "    <tr>\n",
       "      <th>9010</th>\n",
       "      <td>697.44</td>\n",
       "      <td>0.0</td>\n",
       "      <td>0.0</td>\n",
       "      <td>0.0</td>\n",
       "      <td>0.0</td>\n",
       "      <td>0.0</td>\n",
       "      <td>0.0</td>\n",
       "      <td>0.0</td>\n",
       "      <td>0.0</td>\n",
       "      <td>0.0</td>\n",
       "      <td>...</td>\n",
       "      <td>0.0</td>\n",
       "      <td>1.0</td>\n",
       "      <td>0.0</td>\n",
       "      <td>0.0</td>\n",
       "      <td>0.0</td>\n",
       "      <td>0.0</td>\n",
       "      <td>0.0</td>\n",
       "      <td>0.0</td>\n",
       "      <td>0.0</td>\n",
       "      <td>0.0</td>\n",
       "    </tr>\n",
       "    <tr>\n",
       "      <th>9013</th>\n",
       "      <td>6191.34</td>\n",
       "      <td>0.0</td>\n",
       "      <td>0.0</td>\n",
       "      <td>0.0</td>\n",
       "      <td>0.0</td>\n",
       "      <td>0.0</td>\n",
       "      <td>0.0</td>\n",
       "      <td>0.0</td>\n",
       "      <td>0.0</td>\n",
       "      <td>0.0</td>\n",
       "      <td>...</td>\n",
       "      <td>0.0</td>\n",
       "      <td>1.0</td>\n",
       "      <td>0.0</td>\n",
       "      <td>0.0</td>\n",
       "      <td>0.0</td>\n",
       "      <td>0.0</td>\n",
       "      <td>0.0</td>\n",
       "      <td>0.0</td>\n",
       "      <td>0.0</td>\n",
       "      <td>0.0</td>\n",
       "    </tr>\n",
       "    <tr>\n",
       "      <th>9022</th>\n",
       "      <td>651.42</td>\n",
       "      <td>0.0</td>\n",
       "      <td>0.0</td>\n",
       "      <td>0.0</td>\n",
       "      <td>0.0</td>\n",
       "      <td>0.0</td>\n",
       "      <td>0.0</td>\n",
       "      <td>0.0</td>\n",
       "      <td>0.0</td>\n",
       "      <td>0.0</td>\n",
       "      <td>...</td>\n",
       "      <td>0.0</td>\n",
       "      <td>0.0</td>\n",
       "      <td>0.0</td>\n",
       "      <td>0.0</td>\n",
       "      <td>0.0</td>\n",
       "      <td>0.0</td>\n",
       "      <td>0.0</td>\n",
       "      <td>0.0</td>\n",
       "      <td>0.0</td>\n",
       "      <td>0.0</td>\n",
       "    </tr>\n",
       "  </tbody>\n",
       "</table>\n",
       "<p>5 rows × 98 columns</p>\n",
       "</div>"
      ],
      "text/plain": [
       "       Q1_2016  Allamakee  Appanoose  Audubon  Benton  Black Hawk  Boone  \\\n",
       "9001  22355.76        0.0        0.0      0.0     0.0         0.0    0.0   \n",
       "9002  28283.60        0.0        0.0      0.0     0.0         0.0    0.0   \n",
       "9010    697.44        0.0        0.0      0.0     0.0         0.0    0.0   \n",
       "9013   6191.34        0.0        0.0      0.0     0.0         0.0    0.0   \n",
       "9022    651.42        0.0        0.0      0.0     0.0         0.0    0.0   \n",
       "\n",
       "      Bremer  Buchanan  Buena Vista   ...    Wapello  Warren  Washington  \\\n",
       "9001     0.0       0.0          0.0   ...        0.0     0.0         0.0   \n",
       "9002     0.0       0.0          0.0   ...        0.0     0.0         0.0   \n",
       "9010     0.0       0.0          0.0   ...        0.0     1.0         0.0   \n",
       "9013     0.0       0.0          0.0   ...        0.0     1.0         0.0   \n",
       "9022     0.0       0.0          0.0   ...        0.0     0.0         0.0   \n",
       "\n",
       "      Wayne  Webster  Winnebago  Winneshiek  Woodbury  Worth  Wright  \n",
       "9001    0.0      0.0        0.0         0.0       0.0    0.0     0.0  \n",
       "9002    0.0      0.0        0.0         0.0       0.0    0.0     0.0  \n",
       "9010    0.0      0.0        0.0         0.0       0.0    0.0     0.0  \n",
       "9013    0.0      0.0        0.0         0.0       0.0    0.0     0.0  \n",
       "9022    0.0      0.0        0.0         0.0       0.0    0.0     0.0  \n",
       "\n",
       "[5 rows x 98 columns]"
      ]
     },
     "execution_count": 680,
     "metadata": {},
     "output_type": "execute_result"
    }
   ],
   "source": [
    "#39 create dummy variables for 2016 (counties eliminate one county )\n",
    "\n",
    "dummies_minus_one = pd.get_dummies(goodiowa2016['county'], drop_first=True)\n",
    "goodiowa2016 = pd.concat([goodiowa2016, dummies_minus_one], axis=1)\n",
    "goodiowa2016.drop('county', axis=1, inplace=True)\n",
    "goodiowa2016.head()"
   ]
  },
  {
   "cell_type": "code",
   "execution_count": 681,
   "metadata": {
    "collapsed": false
   },
   "outputs": [
    {
     "data": {
      "text/plain": [
       "284005344.46000063"
      ]
     },
     "execution_count": 681,
     "metadata": {},
     "output_type": "execute_result"
    }
   ],
   "source": [
    "iowa_2015['2015_total_profit'].sum()"
   ]
  },
  {
   "cell_type": "code",
   "execution_count": 682,
   "metadata": {
    "collapsed": false
   },
   "outputs": [
    {
     "data": {
      "text/plain": [
       "62961316.98"
      ]
     },
     "execution_count": 682,
     "metadata": {},
     "output_type": "execute_result"
    }
   ],
   "source": [
    "iowa_2015['Q1_2015'].sum()"
   ]
  },
  {
   "cell_type": "code",
   "execution_count": 683,
   "metadata": {
    "collapsed": false
   },
   "outputs": [
    {
     "data": {
      "text/plain": [
       "62961316.98"
      ]
     },
     "execution_count": 683,
     "metadata": {},
     "output_type": "execute_result"
    }
   ],
   "source": [
    "goodiowastores['Q1_2015'].sum()"
   ]
  },
  {
   "cell_type": "code",
   "execution_count": 684,
   "metadata": {
    "collapsed": false
   },
   "outputs": [
    {
     "data": {
      "text/html": [
       "<div>\n",
       "<table border=\"1\" class=\"dataframe\">\n",
       "  <thead>\n",
       "    <tr style=\"text-align: right;\">\n",
       "      <th></th>\n",
       "      <th>county</th>\n",
       "      <th>Q1_2015</th>\n",
       "      <th>2015_total_profit</th>\n",
       "      <th>store_num</th>\n",
       "    </tr>\n",
       "  </thead>\n",
       "  <tbody>\n",
       "    <tr>\n",
       "      <th>9001</th>\n",
       "      <td>Johnson</td>\n",
       "      <td>42762.24</td>\n",
       "      <td>191820.12</td>\n",
       "      <td>9001.0</td>\n",
       "    </tr>\n",
       "    <tr>\n",
       "      <th>9002</th>\n",
       "      <td>Scott</td>\n",
       "      <td>44636.28</td>\n",
       "      <td>327676.62</td>\n",
       "      <td>9002.0</td>\n",
       "    </tr>\n",
       "    <tr>\n",
       "      <th>9010</th>\n",
       "      <td>Warren</td>\n",
       "      <td>11707.62</td>\n",
       "      <td>26209.38</td>\n",
       "      <td>9010.0</td>\n",
       "    </tr>\n",
       "    <tr>\n",
       "      <th>9013</th>\n",
       "      <td>Warren</td>\n",
       "      <td>825.60</td>\n",
       "      <td>30957.66</td>\n",
       "      <td>9013.0</td>\n",
       "    </tr>\n",
       "    <tr>\n",
       "      <th>9022</th>\n",
       "      <td>Scott</td>\n",
       "      <td>3992.10</td>\n",
       "      <td>3992.10</td>\n",
       "      <td>9022.0</td>\n",
       "    </tr>\n",
       "  </tbody>\n",
       "</table>\n",
       "</div>"
      ],
      "text/plain": [
       "       county   Q1_2015  2015_total_profit  store_num\n",
       "9001  Johnson  42762.24          191820.12     9001.0\n",
       "9002    Scott  44636.28          327676.62     9002.0\n",
       "9010   Warren  11707.62           26209.38     9010.0\n",
       "9013   Warren    825.60           30957.66     9013.0\n",
       "9022    Scott   3992.10            3992.10     9022.0"
      ]
     },
     "execution_count": 684,
     "metadata": {},
     "output_type": "execute_result"
    }
   ],
   "source": [
    "goodiowastores.head()"
   ]
  },
  {
   "cell_type": "code",
   "execution_count": 339,
   "metadata": {
    "collapsed": false
   },
   "outputs": [],
   "source": [
    "#Q1_2015.groupby('county').sales.sum()"
   ]
  },
  {
   "cell_type": "code",
   "execution_count": 686,
   "metadata": {
    "collapsed": false
   },
   "outputs": [
    {
     "data": {
      "text/plain": [
       "(1283, 4)"
      ]
     },
     "execution_count": 686,
     "metadata": {},
     "output_type": "execute_result"
    }
   ],
   "source": [
    "goodiowastores.shape"
   ]
  },
  {
   "cell_type": "code",
   "execution_count": 687,
   "metadata": {
    "collapsed": true
   },
   "outputs": [],
   "source": [
    "#41 create dummies for 2015 (for creating 'X')\n",
    "dummies_minus_one = pd.get_dummies(goodiowastores['county'], drop_first=True)\n",
    "goodiowastores = pd.concat([goodiowastores, dummies_minus_one], axis=1)\n",
    "goodiowastores.drop('county', axis=1, inplace=True)\n",
    "\n",
    "#dummies_minus_one = pd.get_dummies(df[['native-country', 'race', 'marital-status', 'occupation','workclass', 'relationship', 'sex', 'education']], drop_first=True)\n",
    "#df = pd.concat([df, dummies_minus_one], axis=1)\n",
    "#df.drop(['native-country', 'race', 'marital-status', 'occupation','workclass', 'relationship', 'sex', 'education', 'salary', 'fnlwgt', 'education-num'], axis=1, inplace=True)\n",
    "\n"
   ]
  },
  {
   "cell_type": "code",
   "execution_count": null,
   "metadata": {
    "collapsed": true
   },
   "outputs": [],
   "source": []
  },
  {
   "cell_type": "code",
   "execution_count": 688,
   "metadata": {
    "collapsed": false
   },
   "outputs": [
    {
     "data": {
      "text/html": [
       "<div>\n",
       "<table border=\"1\" class=\"dataframe\">\n",
       "  <thead>\n",
       "    <tr style=\"text-align: right;\">\n",
       "      <th></th>\n",
       "      <th>Q1_2015</th>\n",
       "      <th>2015_total_profit</th>\n",
       "      <th>store_num</th>\n",
       "      <th>Allamakee</th>\n",
       "      <th>Appanoose</th>\n",
       "      <th>Audubon</th>\n",
       "      <th>Benton</th>\n",
       "      <th>Black Hawk</th>\n",
       "      <th>Boone</th>\n",
       "      <th>Bremer</th>\n",
       "      <th>...</th>\n",
       "      <th>Wapello</th>\n",
       "      <th>Warren</th>\n",
       "      <th>Washington</th>\n",
       "      <th>Wayne</th>\n",
       "      <th>Webster</th>\n",
       "      <th>Winnebago</th>\n",
       "      <th>Winneshiek</th>\n",
       "      <th>Woodbury</th>\n",
       "      <th>Worth</th>\n",
       "      <th>Wright</th>\n",
       "    </tr>\n",
       "  </thead>\n",
       "  <tbody>\n",
       "    <tr>\n",
       "      <th>9001</th>\n",
       "      <td>42762.24</td>\n",
       "      <td>191820.12</td>\n",
       "      <td>9001.0</td>\n",
       "      <td>0.0</td>\n",
       "      <td>0.0</td>\n",
       "      <td>0.0</td>\n",
       "      <td>0.0</td>\n",
       "      <td>0.0</td>\n",
       "      <td>0.0</td>\n",
       "      <td>0.0</td>\n",
       "      <td>...</td>\n",
       "      <td>0.0</td>\n",
       "      <td>0.0</td>\n",
       "      <td>0.0</td>\n",
       "      <td>0.0</td>\n",
       "      <td>0.0</td>\n",
       "      <td>0.0</td>\n",
       "      <td>0.0</td>\n",
       "      <td>0.0</td>\n",
       "      <td>0.0</td>\n",
       "      <td>0.0</td>\n",
       "    </tr>\n",
       "    <tr>\n",
       "      <th>9002</th>\n",
       "      <td>44636.28</td>\n",
       "      <td>327676.62</td>\n",
       "      <td>9002.0</td>\n",
       "      <td>0.0</td>\n",
       "      <td>0.0</td>\n",
       "      <td>0.0</td>\n",
       "      <td>0.0</td>\n",
       "      <td>0.0</td>\n",
       "      <td>0.0</td>\n",
       "      <td>0.0</td>\n",
       "      <td>...</td>\n",
       "      <td>0.0</td>\n",
       "      <td>0.0</td>\n",
       "      <td>0.0</td>\n",
       "      <td>0.0</td>\n",
       "      <td>0.0</td>\n",
       "      <td>0.0</td>\n",
       "      <td>0.0</td>\n",
       "      <td>0.0</td>\n",
       "      <td>0.0</td>\n",
       "      <td>0.0</td>\n",
       "    </tr>\n",
       "    <tr>\n",
       "      <th>9010</th>\n",
       "      <td>11707.62</td>\n",
       "      <td>26209.38</td>\n",
       "      <td>9010.0</td>\n",
       "      <td>0.0</td>\n",
       "      <td>0.0</td>\n",
       "      <td>0.0</td>\n",
       "      <td>0.0</td>\n",
       "      <td>0.0</td>\n",
       "      <td>0.0</td>\n",
       "      <td>0.0</td>\n",
       "      <td>...</td>\n",
       "      <td>0.0</td>\n",
       "      <td>1.0</td>\n",
       "      <td>0.0</td>\n",
       "      <td>0.0</td>\n",
       "      <td>0.0</td>\n",
       "      <td>0.0</td>\n",
       "      <td>0.0</td>\n",
       "      <td>0.0</td>\n",
       "      <td>0.0</td>\n",
       "      <td>0.0</td>\n",
       "    </tr>\n",
       "    <tr>\n",
       "      <th>9013</th>\n",
       "      <td>825.60</td>\n",
       "      <td>30957.66</td>\n",
       "      <td>9013.0</td>\n",
       "      <td>0.0</td>\n",
       "      <td>0.0</td>\n",
       "      <td>0.0</td>\n",
       "      <td>0.0</td>\n",
       "      <td>0.0</td>\n",
       "      <td>0.0</td>\n",
       "      <td>0.0</td>\n",
       "      <td>...</td>\n",
       "      <td>0.0</td>\n",
       "      <td>1.0</td>\n",
       "      <td>0.0</td>\n",
       "      <td>0.0</td>\n",
       "      <td>0.0</td>\n",
       "      <td>0.0</td>\n",
       "      <td>0.0</td>\n",
       "      <td>0.0</td>\n",
       "      <td>0.0</td>\n",
       "      <td>0.0</td>\n",
       "    </tr>\n",
       "    <tr>\n",
       "      <th>9022</th>\n",
       "      <td>3992.10</td>\n",
       "      <td>3992.10</td>\n",
       "      <td>9022.0</td>\n",
       "      <td>0.0</td>\n",
       "      <td>0.0</td>\n",
       "      <td>0.0</td>\n",
       "      <td>0.0</td>\n",
       "      <td>0.0</td>\n",
       "      <td>0.0</td>\n",
       "      <td>0.0</td>\n",
       "      <td>...</td>\n",
       "      <td>0.0</td>\n",
       "      <td>0.0</td>\n",
       "      <td>0.0</td>\n",
       "      <td>0.0</td>\n",
       "      <td>0.0</td>\n",
       "      <td>0.0</td>\n",
       "      <td>0.0</td>\n",
       "      <td>0.0</td>\n",
       "      <td>0.0</td>\n",
       "      <td>0.0</td>\n",
       "    </tr>\n",
       "  </tbody>\n",
       "</table>\n",
       "<p>5 rows × 100 columns</p>\n",
       "</div>"
      ],
      "text/plain": [
       "       Q1_2015  2015_total_profit  store_num  Allamakee  Appanoose  Audubon  \\\n",
       "9001  42762.24          191820.12     9001.0        0.0        0.0      0.0   \n",
       "9002  44636.28          327676.62     9002.0        0.0        0.0      0.0   \n",
       "9010  11707.62           26209.38     9010.0        0.0        0.0      0.0   \n",
       "9013    825.60           30957.66     9013.0        0.0        0.0      0.0   \n",
       "9022   3992.10            3992.10     9022.0        0.0        0.0      0.0   \n",
       "\n",
       "      Benton  Black Hawk  Boone  Bremer   ...    Wapello  Warren  Washington  \\\n",
       "9001     0.0         0.0    0.0     0.0   ...        0.0     0.0         0.0   \n",
       "9002     0.0         0.0    0.0     0.0   ...        0.0     0.0         0.0   \n",
       "9010     0.0         0.0    0.0     0.0   ...        0.0     1.0         0.0   \n",
       "9013     0.0         0.0    0.0     0.0   ...        0.0     1.0         0.0   \n",
       "9022     0.0         0.0    0.0     0.0   ...        0.0     0.0         0.0   \n",
       "\n",
       "      Wayne  Webster  Winnebago  Winneshiek  Woodbury  Worth  Wright  \n",
       "9001    0.0      0.0        0.0         0.0       0.0    0.0     0.0  \n",
       "9002    0.0      0.0        0.0         0.0       0.0    0.0     0.0  \n",
       "9010    0.0      0.0        0.0         0.0       0.0    0.0     0.0  \n",
       "9013    0.0      0.0        0.0         0.0       0.0    0.0     0.0  \n",
       "9022    0.0      0.0        0.0         0.0       0.0    0.0     0.0  \n",
       "\n",
       "[5 rows x 100 columns]"
      ]
     },
     "execution_count": 688,
     "metadata": {},
     "output_type": "execute_result"
    }
   ],
   "source": [
    "goodiowastores.head()"
   ]
  },
  {
   "cell_type": "code",
   "execution_count": 689,
   "metadata": {
    "collapsed": false
   },
   "outputs": [],
   "source": [
    "#43  eliminate 'store_num'   \n",
    "goodiowastores.drop('store_num', axis=1, inplace=True)"
   ]
  },
  {
   "cell_type": "code",
   "execution_count": 690,
   "metadata": {
    "collapsed": false
   },
   "outputs": [
    {
     "data": {
      "text/html": [
       "<div>\n",
       "<table border=\"1\" class=\"dataframe\">\n",
       "  <thead>\n",
       "    <tr style=\"text-align: right;\">\n",
       "      <th></th>\n",
       "      <th>Q1_2015</th>\n",
       "      <th>2015_total_profit</th>\n",
       "      <th>Allamakee</th>\n",
       "      <th>Appanoose</th>\n",
       "      <th>Audubon</th>\n",
       "      <th>Benton</th>\n",
       "      <th>Black Hawk</th>\n",
       "      <th>Boone</th>\n",
       "      <th>Bremer</th>\n",
       "      <th>Buchanan</th>\n",
       "      <th>...</th>\n",
       "      <th>Wapello</th>\n",
       "      <th>Warren</th>\n",
       "      <th>Washington</th>\n",
       "      <th>Wayne</th>\n",
       "      <th>Webster</th>\n",
       "      <th>Winnebago</th>\n",
       "      <th>Winneshiek</th>\n",
       "      <th>Woodbury</th>\n",
       "      <th>Worth</th>\n",
       "      <th>Wright</th>\n",
       "    </tr>\n",
       "  </thead>\n",
       "  <tbody>\n",
       "    <tr>\n",
       "      <th>9001</th>\n",
       "      <td>42762.24</td>\n",
       "      <td>191820.12</td>\n",
       "      <td>0.0</td>\n",
       "      <td>0.0</td>\n",
       "      <td>0.0</td>\n",
       "      <td>0.0</td>\n",
       "      <td>0.0</td>\n",
       "      <td>0.0</td>\n",
       "      <td>0.0</td>\n",
       "      <td>0.0</td>\n",
       "      <td>...</td>\n",
       "      <td>0.0</td>\n",
       "      <td>0.0</td>\n",
       "      <td>0.0</td>\n",
       "      <td>0.0</td>\n",
       "      <td>0.0</td>\n",
       "      <td>0.0</td>\n",
       "      <td>0.0</td>\n",
       "      <td>0.0</td>\n",
       "      <td>0.0</td>\n",
       "      <td>0.0</td>\n",
       "    </tr>\n",
       "    <tr>\n",
       "      <th>9002</th>\n",
       "      <td>44636.28</td>\n",
       "      <td>327676.62</td>\n",
       "      <td>0.0</td>\n",
       "      <td>0.0</td>\n",
       "      <td>0.0</td>\n",
       "      <td>0.0</td>\n",
       "      <td>0.0</td>\n",
       "      <td>0.0</td>\n",
       "      <td>0.0</td>\n",
       "      <td>0.0</td>\n",
       "      <td>...</td>\n",
       "      <td>0.0</td>\n",
       "      <td>0.0</td>\n",
       "      <td>0.0</td>\n",
       "      <td>0.0</td>\n",
       "      <td>0.0</td>\n",
       "      <td>0.0</td>\n",
       "      <td>0.0</td>\n",
       "      <td>0.0</td>\n",
       "      <td>0.0</td>\n",
       "      <td>0.0</td>\n",
       "    </tr>\n",
       "    <tr>\n",
       "      <th>9010</th>\n",
       "      <td>11707.62</td>\n",
       "      <td>26209.38</td>\n",
       "      <td>0.0</td>\n",
       "      <td>0.0</td>\n",
       "      <td>0.0</td>\n",
       "      <td>0.0</td>\n",
       "      <td>0.0</td>\n",
       "      <td>0.0</td>\n",
       "      <td>0.0</td>\n",
       "      <td>0.0</td>\n",
       "      <td>...</td>\n",
       "      <td>0.0</td>\n",
       "      <td>1.0</td>\n",
       "      <td>0.0</td>\n",
       "      <td>0.0</td>\n",
       "      <td>0.0</td>\n",
       "      <td>0.0</td>\n",
       "      <td>0.0</td>\n",
       "      <td>0.0</td>\n",
       "      <td>0.0</td>\n",
       "      <td>0.0</td>\n",
       "    </tr>\n",
       "    <tr>\n",
       "      <th>9013</th>\n",
       "      <td>825.60</td>\n",
       "      <td>30957.66</td>\n",
       "      <td>0.0</td>\n",
       "      <td>0.0</td>\n",
       "      <td>0.0</td>\n",
       "      <td>0.0</td>\n",
       "      <td>0.0</td>\n",
       "      <td>0.0</td>\n",
       "      <td>0.0</td>\n",
       "      <td>0.0</td>\n",
       "      <td>...</td>\n",
       "      <td>0.0</td>\n",
       "      <td>1.0</td>\n",
       "      <td>0.0</td>\n",
       "      <td>0.0</td>\n",
       "      <td>0.0</td>\n",
       "      <td>0.0</td>\n",
       "      <td>0.0</td>\n",
       "      <td>0.0</td>\n",
       "      <td>0.0</td>\n",
       "      <td>0.0</td>\n",
       "    </tr>\n",
       "    <tr>\n",
       "      <th>9022</th>\n",
       "      <td>3992.10</td>\n",
       "      <td>3992.10</td>\n",
       "      <td>0.0</td>\n",
       "      <td>0.0</td>\n",
       "      <td>0.0</td>\n",
       "      <td>0.0</td>\n",
       "      <td>0.0</td>\n",
       "      <td>0.0</td>\n",
       "      <td>0.0</td>\n",
       "      <td>0.0</td>\n",
       "      <td>...</td>\n",
       "      <td>0.0</td>\n",
       "      <td>0.0</td>\n",
       "      <td>0.0</td>\n",
       "      <td>0.0</td>\n",
       "      <td>0.0</td>\n",
       "      <td>0.0</td>\n",
       "      <td>0.0</td>\n",
       "      <td>0.0</td>\n",
       "      <td>0.0</td>\n",
       "      <td>0.0</td>\n",
       "    </tr>\n",
       "  </tbody>\n",
       "</table>\n",
       "<p>5 rows × 99 columns</p>\n",
       "</div>"
      ],
      "text/plain": [
       "       Q1_2015  2015_total_profit  Allamakee  Appanoose  Audubon  Benton  \\\n",
       "9001  42762.24          191820.12        0.0        0.0      0.0     0.0   \n",
       "9002  44636.28          327676.62        0.0        0.0      0.0     0.0   \n",
       "9010  11707.62           26209.38        0.0        0.0      0.0     0.0   \n",
       "9013    825.60           30957.66        0.0        0.0      0.0     0.0   \n",
       "9022   3992.10            3992.10        0.0        0.0      0.0     0.0   \n",
       "\n",
       "      Black Hawk  Boone  Bremer  Buchanan   ...    Wapello  Warren  \\\n",
       "9001         0.0    0.0     0.0       0.0   ...        0.0     0.0   \n",
       "9002         0.0    0.0     0.0       0.0   ...        0.0     0.0   \n",
       "9010         0.0    0.0     0.0       0.0   ...        0.0     1.0   \n",
       "9013         0.0    0.0     0.0       0.0   ...        0.0     1.0   \n",
       "9022         0.0    0.0     0.0       0.0   ...        0.0     0.0   \n",
       "\n",
       "      Washington  Wayne  Webster  Winnebago  Winneshiek  Woodbury  Worth  \\\n",
       "9001         0.0    0.0      0.0        0.0         0.0       0.0    0.0   \n",
       "9002         0.0    0.0      0.0        0.0         0.0       0.0    0.0   \n",
       "9010         0.0    0.0      0.0        0.0         0.0       0.0    0.0   \n",
       "9013         0.0    0.0      0.0        0.0         0.0       0.0    0.0   \n",
       "9022         0.0    0.0      0.0        0.0         0.0       0.0    0.0   \n",
       "\n",
       "      Wright  \n",
       "9001     0.0  \n",
       "9002     0.0  \n",
       "9010     0.0  \n",
       "9013     0.0  \n",
       "9022     0.0  \n",
       "\n",
       "[5 rows x 99 columns]"
      ]
     },
     "execution_count": 690,
     "metadata": {},
     "output_type": "execute_result"
    }
   ],
   "source": [
    "goodiowastores.head()"
   ]
  },
  {
   "cell_type": "code",
   "execution_count": 439,
   "metadata": {
    "collapsed": false
   },
   "outputs": [
    {
     "data": {
      "text/html": [
       "<div>\n",
       "<table border=\"1\" class=\"dataframe\">\n",
       "  <thead>\n",
       "    <tr style=\"text-align: right;\">\n",
       "      <th></th>\n",
       "      <th>Q1_2015</th>\n",
       "      <th>2015_total_profit</th>\n",
       "      <th>Adams</th>\n",
       "      <th>Allamakee</th>\n",
       "      <th>Appanoose</th>\n",
       "      <th>Audubon</th>\n",
       "      <th>Benton</th>\n",
       "      <th>Black Hawk</th>\n",
       "      <th>Boone</th>\n",
       "      <th>Bremer</th>\n",
       "      <th>...</th>\n",
       "      <th>Wapello</th>\n",
       "      <th>Warren</th>\n",
       "      <th>Washington</th>\n",
       "      <th>Wayne</th>\n",
       "      <th>Webster</th>\n",
       "      <th>Winnebago</th>\n",
       "      <th>Winneshiek</th>\n",
       "      <th>Woodbury</th>\n",
       "      <th>Worth</th>\n",
       "      <th>Wright</th>\n",
       "    </tr>\n",
       "  </thead>\n",
       "  <tbody>\n",
       "    <tr>\n",
       "      <th>9001</th>\n",
       "      <td>2341.08</td>\n",
       "      <td>28208.52</td>\n",
       "      <td>0.0</td>\n",
       "      <td>0.0</td>\n",
       "      <td>0.0</td>\n",
       "      <td>0.0</td>\n",
       "      <td>0.0</td>\n",
       "      <td>0.0</td>\n",
       "      <td>0.0</td>\n",
       "      <td>0.0</td>\n",
       "      <td>...</td>\n",
       "      <td>0.0</td>\n",
       "      <td>0.0</td>\n",
       "      <td>0.0</td>\n",
       "      <td>0.0</td>\n",
       "      <td>0.0</td>\n",
       "      <td>0.0</td>\n",
       "      <td>0.0</td>\n",
       "      <td>0.0</td>\n",
       "      <td>0.0</td>\n",
       "      <td>0.0</td>\n",
       "    </tr>\n",
       "    <tr>\n",
       "      <th>9002</th>\n",
       "      <td>4865.16</td>\n",
       "      <td>37700.52</td>\n",
       "      <td>0.0</td>\n",
       "      <td>0.0</td>\n",
       "      <td>0.0</td>\n",
       "      <td>0.0</td>\n",
       "      <td>0.0</td>\n",
       "      <td>0.0</td>\n",
       "      <td>0.0</td>\n",
       "      <td>0.0</td>\n",
       "      <td>...</td>\n",
       "      <td>0.0</td>\n",
       "      <td>0.0</td>\n",
       "      <td>0.0</td>\n",
       "      <td>0.0</td>\n",
       "      <td>0.0</td>\n",
       "      <td>0.0</td>\n",
       "      <td>0.0</td>\n",
       "      <td>0.0</td>\n",
       "      <td>0.0</td>\n",
       "      <td>0.0</td>\n",
       "    </tr>\n",
       "    <tr>\n",
       "      <th>9010</th>\n",
       "      <td>3861.60</td>\n",
       "      <td>5757.96</td>\n",
       "      <td>0.0</td>\n",
       "      <td>0.0</td>\n",
       "      <td>0.0</td>\n",
       "      <td>0.0</td>\n",
       "      <td>0.0</td>\n",
       "      <td>0.0</td>\n",
       "      <td>0.0</td>\n",
       "      <td>0.0</td>\n",
       "      <td>...</td>\n",
       "      <td>0.0</td>\n",
       "      <td>1.0</td>\n",
       "      <td>0.0</td>\n",
       "      <td>0.0</td>\n",
       "      <td>0.0</td>\n",
       "      <td>0.0</td>\n",
       "      <td>0.0</td>\n",
       "      <td>0.0</td>\n",
       "      <td>0.0</td>\n",
       "      <td>0.0</td>\n",
       "    </tr>\n",
       "    <tr>\n",
       "      <th>2106</th>\n",
       "      <td>39287.29</td>\n",
       "      <td>146038.70</td>\n",
       "      <td>0.0</td>\n",
       "      <td>0.0</td>\n",
       "      <td>0.0</td>\n",
       "      <td>0.0</td>\n",
       "      <td>0.0</td>\n",
       "      <td>1.0</td>\n",
       "      <td>0.0</td>\n",
       "      <td>0.0</td>\n",
       "      <td>...</td>\n",
       "      <td>0.0</td>\n",
       "      <td>0.0</td>\n",
       "      <td>0.0</td>\n",
       "      <td>0.0</td>\n",
       "      <td>0.0</td>\n",
       "      <td>0.0</td>\n",
       "      <td>0.0</td>\n",
       "      <td>0.0</td>\n",
       "      <td>0.0</td>\n",
       "      <td>0.0</td>\n",
       "    </tr>\n",
       "    <tr>\n",
       "      <th>2113</th>\n",
       "      <td>2833.25</td>\n",
       "      <td>9310.22</td>\n",
       "      <td>0.0</td>\n",
       "      <td>0.0</td>\n",
       "      <td>0.0</td>\n",
       "      <td>0.0</td>\n",
       "      <td>0.0</td>\n",
       "      <td>0.0</td>\n",
       "      <td>0.0</td>\n",
       "      <td>0.0</td>\n",
       "      <td>...</td>\n",
       "      <td>0.0</td>\n",
       "      <td>0.0</td>\n",
       "      <td>0.0</td>\n",
       "      <td>0.0</td>\n",
       "      <td>1.0</td>\n",
       "      <td>0.0</td>\n",
       "      <td>0.0</td>\n",
       "      <td>0.0</td>\n",
       "      <td>0.0</td>\n",
       "      <td>0.0</td>\n",
       "    </tr>\n",
       "  </tbody>\n",
       "</table>\n",
       "<p>5 rows × 100 columns</p>\n",
       "</div>"
      ],
      "text/plain": [
       "       Q1_2015  2015_total_profit  Adams  Allamakee  Appanoose  Audubon  \\\n",
       "9001   2341.08           28208.52    0.0        0.0        0.0      0.0   \n",
       "9002   4865.16           37700.52    0.0        0.0        0.0      0.0   \n",
       "9010   3861.60            5757.96    0.0        0.0        0.0      0.0   \n",
       "2106  39287.29          146038.70    0.0        0.0        0.0      0.0   \n",
       "2113   2833.25            9310.22    0.0        0.0        0.0      0.0   \n",
       "\n",
       "      Benton  Black Hawk  Boone  Bremer   ...    Wapello  Warren  Washington  \\\n",
       "9001     0.0         0.0    0.0     0.0   ...        0.0     0.0         0.0   \n",
       "9002     0.0         0.0    0.0     0.0   ...        0.0     0.0         0.0   \n",
       "9010     0.0         0.0    0.0     0.0   ...        0.0     1.0         0.0   \n",
       "2106     0.0         1.0    0.0     0.0   ...        0.0     0.0         0.0   \n",
       "2113     0.0         0.0    0.0     0.0   ...        0.0     0.0         0.0   \n",
       "\n",
       "      Wayne  Webster  Winnebago  Winneshiek  Woodbury  Worth  Wright  \n",
       "9001    0.0      0.0        0.0         0.0       0.0    0.0     0.0  \n",
       "9002    0.0      0.0        0.0         0.0       0.0    0.0     0.0  \n",
       "9010    0.0      0.0        0.0         0.0       0.0    0.0     0.0  \n",
       "2106    0.0      0.0        0.0         0.0       0.0    0.0     0.0  \n",
       "2113    0.0      1.0        0.0         0.0       0.0    0.0     0.0  \n",
       "\n",
       "[5 rows x 100 columns]"
      ]
     },
     "execution_count": 439,
     "metadata": {},
     "output_type": "execute_result"
    }
   ],
   "source": [
    "goodiowastores.head()"
   ]
  },
  {
   "cell_type": "code",
   "execution_count": 691,
   "metadata": {
    "collapsed": false
   },
   "outputs": [
    {
     "data": {
      "text/plain": [
       "(1283, 99)"
      ]
     },
     "execution_count": 691,
     "metadata": {},
     "output_type": "execute_result"
    }
   ],
   "source": [
    "goodiowastores.shape"
   ]
  },
  {
   "cell_type": "markdown",
   "metadata": {},
   "source": [
    "# Create 'y' and 'X' s for 2016 and 2015"
   ]
  },
  {
   "cell_type": "code",
   "execution_count": 692,
   "metadata": {
    "collapsed": false
   },
   "outputs": [
    {
     "data": {
      "text/plain": [
       "9001    191820.12\n",
       "9002    327676.62\n",
       "9010     26209.38\n",
       "9013     30957.66\n",
       "9022      3992.10\n",
       "Name: 2015_total_profit, dtype: float64"
      ]
     },
     "execution_count": 692,
     "metadata": {},
     "output_type": "execute_result"
    }
   ],
   "source": [
    "# 43.  create the 'y'   \n",
    "\n",
    "y = goodiowastores['2015_total_profit']\n",
    "y.head()"
   ]
  },
  {
   "cell_type": "code",
   "execution_count": 693,
   "metadata": {
    "collapsed": false
   },
   "outputs": [
    {
     "data": {
      "text/plain": [
       "(1283,)"
      ]
     },
     "execution_count": 693,
     "metadata": {},
     "output_type": "execute_result"
    }
   ],
   "source": [
    "y.shape"
   ]
  },
  {
   "cell_type": "code",
   "execution_count": 694,
   "metadata": {
    "collapsed": false
   },
   "outputs": [
    {
     "data": {
      "text/plain": [
       "278023997.34000075"
      ]
     },
     "execution_count": 694,
     "metadata": {},
     "output_type": "execute_result"
    }
   ],
   "source": [
    "y.sum()"
   ]
  },
  {
   "cell_type": "code",
   "execution_count": 695,
   "metadata": {
    "collapsed": false,
    "scrolled": true
   },
   "outputs": [
    {
     "data": {
      "text/html": [
       "<div>\n",
       "<table border=\"1\" class=\"dataframe\">\n",
       "  <thead>\n",
       "    <tr style=\"text-align: right;\">\n",
       "      <th></th>\n",
       "      <th>Q1_2015</th>\n",
       "      <th>2015_total_profit</th>\n",
       "      <th>Allamakee</th>\n",
       "      <th>Appanoose</th>\n",
       "      <th>Audubon</th>\n",
       "      <th>Benton</th>\n",
       "      <th>Black Hawk</th>\n",
       "      <th>Boone</th>\n",
       "      <th>Bremer</th>\n",
       "      <th>Buchanan</th>\n",
       "      <th>...</th>\n",
       "      <th>Wapello</th>\n",
       "      <th>Warren</th>\n",
       "      <th>Washington</th>\n",
       "      <th>Wayne</th>\n",
       "      <th>Webster</th>\n",
       "      <th>Winnebago</th>\n",
       "      <th>Winneshiek</th>\n",
       "      <th>Woodbury</th>\n",
       "      <th>Worth</th>\n",
       "      <th>Wright</th>\n",
       "    </tr>\n",
       "  </thead>\n",
       "  <tbody>\n",
       "    <tr>\n",
       "      <th>9001</th>\n",
       "      <td>42762.24</td>\n",
       "      <td>191820.12</td>\n",
       "      <td>0.0</td>\n",
       "      <td>0.0</td>\n",
       "      <td>0.0</td>\n",
       "      <td>0.0</td>\n",
       "      <td>0.0</td>\n",
       "      <td>0.0</td>\n",
       "      <td>0.0</td>\n",
       "      <td>0.0</td>\n",
       "      <td>...</td>\n",
       "      <td>0.0</td>\n",
       "      <td>0.0</td>\n",
       "      <td>0.0</td>\n",
       "      <td>0.0</td>\n",
       "      <td>0.0</td>\n",
       "      <td>0.0</td>\n",
       "      <td>0.0</td>\n",
       "      <td>0.0</td>\n",
       "      <td>0.0</td>\n",
       "      <td>0.0</td>\n",
       "    </tr>\n",
       "    <tr>\n",
       "      <th>9002</th>\n",
       "      <td>44636.28</td>\n",
       "      <td>327676.62</td>\n",
       "      <td>0.0</td>\n",
       "      <td>0.0</td>\n",
       "      <td>0.0</td>\n",
       "      <td>0.0</td>\n",
       "      <td>0.0</td>\n",
       "      <td>0.0</td>\n",
       "      <td>0.0</td>\n",
       "      <td>0.0</td>\n",
       "      <td>...</td>\n",
       "      <td>0.0</td>\n",
       "      <td>0.0</td>\n",
       "      <td>0.0</td>\n",
       "      <td>0.0</td>\n",
       "      <td>0.0</td>\n",
       "      <td>0.0</td>\n",
       "      <td>0.0</td>\n",
       "      <td>0.0</td>\n",
       "      <td>0.0</td>\n",
       "      <td>0.0</td>\n",
       "    </tr>\n",
       "    <tr>\n",
       "      <th>9010</th>\n",
       "      <td>11707.62</td>\n",
       "      <td>26209.38</td>\n",
       "      <td>0.0</td>\n",
       "      <td>0.0</td>\n",
       "      <td>0.0</td>\n",
       "      <td>0.0</td>\n",
       "      <td>0.0</td>\n",
       "      <td>0.0</td>\n",
       "      <td>0.0</td>\n",
       "      <td>0.0</td>\n",
       "      <td>...</td>\n",
       "      <td>0.0</td>\n",
       "      <td>1.0</td>\n",
       "      <td>0.0</td>\n",
       "      <td>0.0</td>\n",
       "      <td>0.0</td>\n",
       "      <td>0.0</td>\n",
       "      <td>0.0</td>\n",
       "      <td>0.0</td>\n",
       "      <td>0.0</td>\n",
       "      <td>0.0</td>\n",
       "    </tr>\n",
       "    <tr>\n",
       "      <th>9013</th>\n",
       "      <td>825.60</td>\n",
       "      <td>30957.66</td>\n",
       "      <td>0.0</td>\n",
       "      <td>0.0</td>\n",
       "      <td>0.0</td>\n",
       "      <td>0.0</td>\n",
       "      <td>0.0</td>\n",
       "      <td>0.0</td>\n",
       "      <td>0.0</td>\n",
       "      <td>0.0</td>\n",
       "      <td>...</td>\n",
       "      <td>0.0</td>\n",
       "      <td>1.0</td>\n",
       "      <td>0.0</td>\n",
       "      <td>0.0</td>\n",
       "      <td>0.0</td>\n",
       "      <td>0.0</td>\n",
       "      <td>0.0</td>\n",
       "      <td>0.0</td>\n",
       "      <td>0.0</td>\n",
       "      <td>0.0</td>\n",
       "    </tr>\n",
       "    <tr>\n",
       "      <th>9022</th>\n",
       "      <td>3992.10</td>\n",
       "      <td>3992.10</td>\n",
       "      <td>0.0</td>\n",
       "      <td>0.0</td>\n",
       "      <td>0.0</td>\n",
       "      <td>0.0</td>\n",
       "      <td>0.0</td>\n",
       "      <td>0.0</td>\n",
       "      <td>0.0</td>\n",
       "      <td>0.0</td>\n",
       "      <td>...</td>\n",
       "      <td>0.0</td>\n",
       "      <td>0.0</td>\n",
       "      <td>0.0</td>\n",
       "      <td>0.0</td>\n",
       "      <td>0.0</td>\n",
       "      <td>0.0</td>\n",
       "      <td>0.0</td>\n",
       "      <td>0.0</td>\n",
       "      <td>0.0</td>\n",
       "      <td>0.0</td>\n",
       "    </tr>\n",
       "  </tbody>\n",
       "</table>\n",
       "<p>5 rows × 99 columns</p>\n",
       "</div>"
      ],
      "text/plain": [
       "       Q1_2015  2015_total_profit  Allamakee  Appanoose  Audubon  Benton  \\\n",
       "9001  42762.24          191820.12        0.0        0.0      0.0     0.0   \n",
       "9002  44636.28          327676.62        0.0        0.0      0.0     0.0   \n",
       "9010  11707.62           26209.38        0.0        0.0      0.0     0.0   \n",
       "9013    825.60           30957.66        0.0        0.0      0.0     0.0   \n",
       "9022   3992.10            3992.10        0.0        0.0      0.0     0.0   \n",
       "\n",
       "      Black Hawk  Boone  Bremer  Buchanan   ...    Wapello  Warren  \\\n",
       "9001         0.0    0.0     0.0       0.0   ...        0.0     0.0   \n",
       "9002         0.0    0.0     0.0       0.0   ...        0.0     0.0   \n",
       "9010         0.0    0.0     0.0       0.0   ...        0.0     1.0   \n",
       "9013         0.0    0.0     0.0       0.0   ...        0.0     1.0   \n",
       "9022         0.0    0.0     0.0       0.0   ...        0.0     0.0   \n",
       "\n",
       "      Washington  Wayne  Webster  Winnebago  Winneshiek  Woodbury  Worth  \\\n",
       "9001         0.0    0.0      0.0        0.0         0.0       0.0    0.0   \n",
       "9002         0.0    0.0      0.0        0.0         0.0       0.0    0.0   \n",
       "9010         0.0    0.0      0.0        0.0         0.0       0.0    0.0   \n",
       "9013         0.0    0.0      0.0        0.0         0.0       0.0    0.0   \n",
       "9022         0.0    0.0      0.0        0.0         0.0       0.0    0.0   \n",
       "\n",
       "      Wright  \n",
       "9001     0.0  \n",
       "9002     0.0  \n",
       "9010     0.0  \n",
       "9013     0.0  \n",
       "9022     0.0  \n",
       "\n",
       "[5 rows x 99 columns]"
      ]
     },
     "execution_count": 695,
     "metadata": {},
     "output_type": "execute_result"
    }
   ],
   "source": [
    "goodiowastores.head()"
   ]
  },
  {
   "cell_type": "code",
   "execution_count": 696,
   "metadata": {
    "collapsed": false
   },
   "outputs": [],
   "source": [
    "# 44  eliminate the raget column\n",
    "\n",
    "goodiowastores.drop('2015_total_profit', axis=1, inplace=True)"
   ]
  },
  {
   "cell_type": "code",
   "execution_count": 697,
   "metadata": {
    "collapsed": false
   },
   "outputs": [
    {
     "data": {
      "text/html": [
       "<div>\n",
       "<table border=\"1\" class=\"dataframe\">\n",
       "  <thead>\n",
       "    <tr style=\"text-align: right;\">\n",
       "      <th></th>\n",
       "      <th>Q1_2015</th>\n",
       "      <th>Allamakee</th>\n",
       "      <th>Appanoose</th>\n",
       "      <th>Audubon</th>\n",
       "      <th>Benton</th>\n",
       "      <th>Black Hawk</th>\n",
       "      <th>Boone</th>\n",
       "      <th>Bremer</th>\n",
       "      <th>Buchanan</th>\n",
       "      <th>Buena Vista</th>\n",
       "      <th>...</th>\n",
       "      <th>Wapello</th>\n",
       "      <th>Warren</th>\n",
       "      <th>Washington</th>\n",
       "      <th>Wayne</th>\n",
       "      <th>Webster</th>\n",
       "      <th>Winnebago</th>\n",
       "      <th>Winneshiek</th>\n",
       "      <th>Woodbury</th>\n",
       "      <th>Worth</th>\n",
       "      <th>Wright</th>\n",
       "    </tr>\n",
       "  </thead>\n",
       "  <tbody>\n",
       "    <tr>\n",
       "      <th>9001</th>\n",
       "      <td>42762.24</td>\n",
       "      <td>0.0</td>\n",
       "      <td>0.0</td>\n",
       "      <td>0.0</td>\n",
       "      <td>0.0</td>\n",
       "      <td>0.0</td>\n",
       "      <td>0.0</td>\n",
       "      <td>0.0</td>\n",
       "      <td>0.0</td>\n",
       "      <td>0.0</td>\n",
       "      <td>...</td>\n",
       "      <td>0.0</td>\n",
       "      <td>0.0</td>\n",
       "      <td>0.0</td>\n",
       "      <td>0.0</td>\n",
       "      <td>0.0</td>\n",
       "      <td>0.0</td>\n",
       "      <td>0.0</td>\n",
       "      <td>0.0</td>\n",
       "      <td>0.0</td>\n",
       "      <td>0.0</td>\n",
       "    </tr>\n",
       "    <tr>\n",
       "      <th>9002</th>\n",
       "      <td>44636.28</td>\n",
       "      <td>0.0</td>\n",
       "      <td>0.0</td>\n",
       "      <td>0.0</td>\n",
       "      <td>0.0</td>\n",
       "      <td>0.0</td>\n",
       "      <td>0.0</td>\n",
       "      <td>0.0</td>\n",
       "      <td>0.0</td>\n",
       "      <td>0.0</td>\n",
       "      <td>...</td>\n",
       "      <td>0.0</td>\n",
       "      <td>0.0</td>\n",
       "      <td>0.0</td>\n",
       "      <td>0.0</td>\n",
       "      <td>0.0</td>\n",
       "      <td>0.0</td>\n",
       "      <td>0.0</td>\n",
       "      <td>0.0</td>\n",
       "      <td>0.0</td>\n",
       "      <td>0.0</td>\n",
       "    </tr>\n",
       "    <tr>\n",
       "      <th>9010</th>\n",
       "      <td>11707.62</td>\n",
       "      <td>0.0</td>\n",
       "      <td>0.0</td>\n",
       "      <td>0.0</td>\n",
       "      <td>0.0</td>\n",
       "      <td>0.0</td>\n",
       "      <td>0.0</td>\n",
       "      <td>0.0</td>\n",
       "      <td>0.0</td>\n",
       "      <td>0.0</td>\n",
       "      <td>...</td>\n",
       "      <td>0.0</td>\n",
       "      <td>1.0</td>\n",
       "      <td>0.0</td>\n",
       "      <td>0.0</td>\n",
       "      <td>0.0</td>\n",
       "      <td>0.0</td>\n",
       "      <td>0.0</td>\n",
       "      <td>0.0</td>\n",
       "      <td>0.0</td>\n",
       "      <td>0.0</td>\n",
       "    </tr>\n",
       "    <tr>\n",
       "      <th>9013</th>\n",
       "      <td>825.60</td>\n",
       "      <td>0.0</td>\n",
       "      <td>0.0</td>\n",
       "      <td>0.0</td>\n",
       "      <td>0.0</td>\n",
       "      <td>0.0</td>\n",
       "      <td>0.0</td>\n",
       "      <td>0.0</td>\n",
       "      <td>0.0</td>\n",
       "      <td>0.0</td>\n",
       "      <td>...</td>\n",
       "      <td>0.0</td>\n",
       "      <td>1.0</td>\n",
       "      <td>0.0</td>\n",
       "      <td>0.0</td>\n",
       "      <td>0.0</td>\n",
       "      <td>0.0</td>\n",
       "      <td>0.0</td>\n",
       "      <td>0.0</td>\n",
       "      <td>0.0</td>\n",
       "      <td>0.0</td>\n",
       "    </tr>\n",
       "    <tr>\n",
       "      <th>9022</th>\n",
       "      <td>3992.10</td>\n",
       "      <td>0.0</td>\n",
       "      <td>0.0</td>\n",
       "      <td>0.0</td>\n",
       "      <td>0.0</td>\n",
       "      <td>0.0</td>\n",
       "      <td>0.0</td>\n",
       "      <td>0.0</td>\n",
       "      <td>0.0</td>\n",
       "      <td>0.0</td>\n",
       "      <td>...</td>\n",
       "      <td>0.0</td>\n",
       "      <td>0.0</td>\n",
       "      <td>0.0</td>\n",
       "      <td>0.0</td>\n",
       "      <td>0.0</td>\n",
       "      <td>0.0</td>\n",
       "      <td>0.0</td>\n",
       "      <td>0.0</td>\n",
       "      <td>0.0</td>\n",
       "      <td>0.0</td>\n",
       "    </tr>\n",
       "  </tbody>\n",
       "</table>\n",
       "<p>5 rows × 98 columns</p>\n",
       "</div>"
      ],
      "text/plain": [
       "       Q1_2015  Allamakee  Appanoose  Audubon  Benton  Black Hawk  Boone  \\\n",
       "9001  42762.24        0.0        0.0      0.0     0.0         0.0    0.0   \n",
       "9002  44636.28        0.0        0.0      0.0     0.0         0.0    0.0   \n",
       "9010  11707.62        0.0        0.0      0.0     0.0         0.0    0.0   \n",
       "9013    825.60        0.0        0.0      0.0     0.0         0.0    0.0   \n",
       "9022   3992.10        0.0        0.0      0.0     0.0         0.0    0.0   \n",
       "\n",
       "      Bremer  Buchanan  Buena Vista   ...    Wapello  Warren  Washington  \\\n",
       "9001     0.0       0.0          0.0   ...        0.0     0.0         0.0   \n",
       "9002     0.0       0.0          0.0   ...        0.0     0.0         0.0   \n",
       "9010     0.0       0.0          0.0   ...        0.0     1.0         0.0   \n",
       "9013     0.0       0.0          0.0   ...        0.0     1.0         0.0   \n",
       "9022     0.0       0.0          0.0   ...        0.0     0.0         0.0   \n",
       "\n",
       "      Wayne  Webster  Winnebago  Winneshiek  Woodbury  Worth  Wright  \n",
       "9001    0.0      0.0        0.0         0.0       0.0    0.0     0.0  \n",
       "9002    0.0      0.0        0.0         0.0       0.0    0.0     0.0  \n",
       "9010    0.0      0.0        0.0         0.0       0.0    0.0     0.0  \n",
       "9013    0.0      0.0        0.0         0.0       0.0    0.0     0.0  \n",
       "9022    0.0      0.0        0.0         0.0       0.0    0.0     0.0  \n",
       "\n",
       "[5 rows x 98 columns]"
      ]
     },
     "execution_count": 697,
     "metadata": {},
     "output_type": "execute_result"
    }
   ],
   "source": [
    "goodiowastores.head()"
   ]
  },
  {
   "cell_type": "code",
   "execution_count": 698,
   "metadata": {
    "collapsed": false
   },
   "outputs": [
    {
     "data": {
      "text/plain": [
       "(1283, 98)"
      ]
     },
     "execution_count": 698,
     "metadata": {},
     "output_type": "execute_result"
    }
   ],
   "source": [
    "goodiowastores.shape"
   ]
  },
  {
   "cell_type": "code",
   "execution_count": 699,
   "metadata": {
    "collapsed": false
   },
   "outputs": [
    {
     "data": {
      "text/plain": [
       "(1283,)"
      ]
     },
     "execution_count": 699,
     "metadata": {},
     "output_type": "execute_result"
    }
   ],
   "source": [
    "goodiowastores['Q1_2015'].shape"
   ]
  },
  {
   "cell_type": "code",
   "execution_count": 700,
   "metadata": {
    "collapsed": false
   },
   "outputs": [
    {
     "data": {
      "text/plain": [
       "(1283, 98)"
      ]
     },
     "execution_count": 700,
     "metadata": {},
     "output_type": "execute_result"
    }
   ],
   "source": [
    "# 45    CReate X our variable \n",
    "\n",
    "X = goodiowastores\n",
    "X.shape"
   ]
  },
  {
   "cell_type": "code",
   "execution_count": 701,
   "metadata": {
    "collapsed": false
   },
   "outputs": [
    {
     "data": {
      "text/html": [
       "<div>\n",
       "<table border=\"1\" class=\"dataframe\">\n",
       "  <thead>\n",
       "    <tr style=\"text-align: right;\">\n",
       "      <th></th>\n",
       "      <th>Q1_2015</th>\n",
       "      <th>Allamakee</th>\n",
       "      <th>Appanoose</th>\n",
       "      <th>Audubon</th>\n",
       "      <th>Benton</th>\n",
       "      <th>Black Hawk</th>\n",
       "      <th>Boone</th>\n",
       "      <th>Bremer</th>\n",
       "      <th>Buchanan</th>\n",
       "      <th>Buena Vista</th>\n",
       "      <th>...</th>\n",
       "      <th>Wapello</th>\n",
       "      <th>Warren</th>\n",
       "      <th>Washington</th>\n",
       "      <th>Wayne</th>\n",
       "      <th>Webster</th>\n",
       "      <th>Winnebago</th>\n",
       "      <th>Winneshiek</th>\n",
       "      <th>Woodbury</th>\n",
       "      <th>Worth</th>\n",
       "      <th>Wright</th>\n",
       "    </tr>\n",
       "  </thead>\n",
       "  <tbody>\n",
       "    <tr>\n",
       "      <th>9001</th>\n",
       "      <td>42762.24</td>\n",
       "      <td>0.0</td>\n",
       "      <td>0.0</td>\n",
       "      <td>0.0</td>\n",
       "      <td>0.0</td>\n",
       "      <td>0.0</td>\n",
       "      <td>0.0</td>\n",
       "      <td>0.0</td>\n",
       "      <td>0.0</td>\n",
       "      <td>0.0</td>\n",
       "      <td>...</td>\n",
       "      <td>0.0</td>\n",
       "      <td>0.0</td>\n",
       "      <td>0.0</td>\n",
       "      <td>0.0</td>\n",
       "      <td>0.0</td>\n",
       "      <td>0.0</td>\n",
       "      <td>0.0</td>\n",
       "      <td>0.0</td>\n",
       "      <td>0.0</td>\n",
       "      <td>0.0</td>\n",
       "    </tr>\n",
       "    <tr>\n",
       "      <th>9002</th>\n",
       "      <td>44636.28</td>\n",
       "      <td>0.0</td>\n",
       "      <td>0.0</td>\n",
       "      <td>0.0</td>\n",
       "      <td>0.0</td>\n",
       "      <td>0.0</td>\n",
       "      <td>0.0</td>\n",
       "      <td>0.0</td>\n",
       "      <td>0.0</td>\n",
       "      <td>0.0</td>\n",
       "      <td>...</td>\n",
       "      <td>0.0</td>\n",
       "      <td>0.0</td>\n",
       "      <td>0.0</td>\n",
       "      <td>0.0</td>\n",
       "      <td>0.0</td>\n",
       "      <td>0.0</td>\n",
       "      <td>0.0</td>\n",
       "      <td>0.0</td>\n",
       "      <td>0.0</td>\n",
       "      <td>0.0</td>\n",
       "    </tr>\n",
       "    <tr>\n",
       "      <th>9010</th>\n",
       "      <td>11707.62</td>\n",
       "      <td>0.0</td>\n",
       "      <td>0.0</td>\n",
       "      <td>0.0</td>\n",
       "      <td>0.0</td>\n",
       "      <td>0.0</td>\n",
       "      <td>0.0</td>\n",
       "      <td>0.0</td>\n",
       "      <td>0.0</td>\n",
       "      <td>0.0</td>\n",
       "      <td>...</td>\n",
       "      <td>0.0</td>\n",
       "      <td>1.0</td>\n",
       "      <td>0.0</td>\n",
       "      <td>0.0</td>\n",
       "      <td>0.0</td>\n",
       "      <td>0.0</td>\n",
       "      <td>0.0</td>\n",
       "      <td>0.0</td>\n",
       "      <td>0.0</td>\n",
       "      <td>0.0</td>\n",
       "    </tr>\n",
       "    <tr>\n",
       "      <th>9013</th>\n",
       "      <td>825.60</td>\n",
       "      <td>0.0</td>\n",
       "      <td>0.0</td>\n",
       "      <td>0.0</td>\n",
       "      <td>0.0</td>\n",
       "      <td>0.0</td>\n",
       "      <td>0.0</td>\n",
       "      <td>0.0</td>\n",
       "      <td>0.0</td>\n",
       "      <td>0.0</td>\n",
       "      <td>...</td>\n",
       "      <td>0.0</td>\n",
       "      <td>1.0</td>\n",
       "      <td>0.0</td>\n",
       "      <td>0.0</td>\n",
       "      <td>0.0</td>\n",
       "      <td>0.0</td>\n",
       "      <td>0.0</td>\n",
       "      <td>0.0</td>\n",
       "      <td>0.0</td>\n",
       "      <td>0.0</td>\n",
       "    </tr>\n",
       "    <tr>\n",
       "      <th>9022</th>\n",
       "      <td>3992.10</td>\n",
       "      <td>0.0</td>\n",
       "      <td>0.0</td>\n",
       "      <td>0.0</td>\n",
       "      <td>0.0</td>\n",
       "      <td>0.0</td>\n",
       "      <td>0.0</td>\n",
       "      <td>0.0</td>\n",
       "      <td>0.0</td>\n",
       "      <td>0.0</td>\n",
       "      <td>...</td>\n",
       "      <td>0.0</td>\n",
       "      <td>0.0</td>\n",
       "      <td>0.0</td>\n",
       "      <td>0.0</td>\n",
       "      <td>0.0</td>\n",
       "      <td>0.0</td>\n",
       "      <td>0.0</td>\n",
       "      <td>0.0</td>\n",
       "      <td>0.0</td>\n",
       "      <td>0.0</td>\n",
       "    </tr>\n",
       "  </tbody>\n",
       "</table>\n",
       "<p>5 rows × 98 columns</p>\n",
       "</div>"
      ],
      "text/plain": [
       "       Q1_2015  Allamakee  Appanoose  Audubon  Benton  Black Hawk  Boone  \\\n",
       "9001  42762.24        0.0        0.0      0.0     0.0         0.0    0.0   \n",
       "9002  44636.28        0.0        0.0      0.0     0.0         0.0    0.0   \n",
       "9010  11707.62        0.0        0.0      0.0     0.0         0.0    0.0   \n",
       "9013    825.60        0.0        0.0      0.0     0.0         0.0    0.0   \n",
       "9022   3992.10        0.0        0.0      0.0     0.0         0.0    0.0   \n",
       "\n",
       "      Bremer  Buchanan  Buena Vista   ...    Wapello  Warren  Washington  \\\n",
       "9001     0.0       0.0          0.0   ...        0.0     0.0         0.0   \n",
       "9002     0.0       0.0          0.0   ...        0.0     0.0         0.0   \n",
       "9010     0.0       0.0          0.0   ...        0.0     1.0         0.0   \n",
       "9013     0.0       0.0          0.0   ...        0.0     1.0         0.0   \n",
       "9022     0.0       0.0          0.0   ...        0.0     0.0         0.0   \n",
       "\n",
       "      Wayne  Webster  Winnebago  Winneshiek  Woodbury  Worth  Wright  \n",
       "9001    0.0      0.0        0.0         0.0       0.0    0.0     0.0  \n",
       "9002    0.0      0.0        0.0         0.0       0.0    0.0     0.0  \n",
       "9010    0.0      0.0        0.0         0.0       0.0    0.0     0.0  \n",
       "9013    0.0      0.0        0.0         0.0       0.0    0.0     0.0  \n",
       "9022    0.0      0.0        0.0         0.0       0.0    0.0     0.0  \n",
       "\n",
       "[5 rows x 98 columns]"
      ]
     },
     "execution_count": 701,
     "metadata": {},
     "output_type": "execute_result"
    }
   ],
   "source": [
    "X.head()"
   ]
  },
  {
   "cell_type": "code",
   "execution_count": 702,
   "metadata": {
    "collapsed": false
   },
   "outputs": [
    {
     "data": {
      "text/html": [
       "<div>\n",
       "<table border=\"1\" class=\"dataframe\">\n",
       "  <thead>\n",
       "    <tr style=\"text-align: right;\">\n",
       "      <th></th>\n",
       "      <th>Q1_2016</th>\n",
       "      <th>Allamakee</th>\n",
       "      <th>Appanoose</th>\n",
       "      <th>Audubon</th>\n",
       "      <th>Benton</th>\n",
       "      <th>Black Hawk</th>\n",
       "      <th>Boone</th>\n",
       "      <th>Bremer</th>\n",
       "      <th>Buchanan</th>\n",
       "      <th>Buena Vista</th>\n",
       "      <th>...</th>\n",
       "      <th>Wapello</th>\n",
       "      <th>Warren</th>\n",
       "      <th>Washington</th>\n",
       "      <th>Wayne</th>\n",
       "      <th>Webster</th>\n",
       "      <th>Winnebago</th>\n",
       "      <th>Winneshiek</th>\n",
       "      <th>Woodbury</th>\n",
       "      <th>Worth</th>\n",
       "      <th>Wright</th>\n",
       "    </tr>\n",
       "  </thead>\n",
       "  <tbody>\n",
       "    <tr>\n",
       "      <th>9001</th>\n",
       "      <td>22355.76</td>\n",
       "      <td>0.0</td>\n",
       "      <td>0.0</td>\n",
       "      <td>0.0</td>\n",
       "      <td>0.0</td>\n",
       "      <td>0.0</td>\n",
       "      <td>0.0</td>\n",
       "      <td>0.0</td>\n",
       "      <td>0.0</td>\n",
       "      <td>0.0</td>\n",
       "      <td>...</td>\n",
       "      <td>0.0</td>\n",
       "      <td>0.0</td>\n",
       "      <td>0.0</td>\n",
       "      <td>0.0</td>\n",
       "      <td>0.0</td>\n",
       "      <td>0.0</td>\n",
       "      <td>0.0</td>\n",
       "      <td>0.0</td>\n",
       "      <td>0.0</td>\n",
       "      <td>0.0</td>\n",
       "    </tr>\n",
       "    <tr>\n",
       "      <th>9002</th>\n",
       "      <td>28283.60</td>\n",
       "      <td>0.0</td>\n",
       "      <td>0.0</td>\n",
       "      <td>0.0</td>\n",
       "      <td>0.0</td>\n",
       "      <td>0.0</td>\n",
       "      <td>0.0</td>\n",
       "      <td>0.0</td>\n",
       "      <td>0.0</td>\n",
       "      <td>0.0</td>\n",
       "      <td>...</td>\n",
       "      <td>0.0</td>\n",
       "      <td>0.0</td>\n",
       "      <td>0.0</td>\n",
       "      <td>0.0</td>\n",
       "      <td>0.0</td>\n",
       "      <td>0.0</td>\n",
       "      <td>0.0</td>\n",
       "      <td>0.0</td>\n",
       "      <td>0.0</td>\n",
       "      <td>0.0</td>\n",
       "    </tr>\n",
       "    <tr>\n",
       "      <th>9010</th>\n",
       "      <td>697.44</td>\n",
       "      <td>0.0</td>\n",
       "      <td>0.0</td>\n",
       "      <td>0.0</td>\n",
       "      <td>0.0</td>\n",
       "      <td>0.0</td>\n",
       "      <td>0.0</td>\n",
       "      <td>0.0</td>\n",
       "      <td>0.0</td>\n",
       "      <td>0.0</td>\n",
       "      <td>...</td>\n",
       "      <td>0.0</td>\n",
       "      <td>1.0</td>\n",
       "      <td>0.0</td>\n",
       "      <td>0.0</td>\n",
       "      <td>0.0</td>\n",
       "      <td>0.0</td>\n",
       "      <td>0.0</td>\n",
       "      <td>0.0</td>\n",
       "      <td>0.0</td>\n",
       "      <td>0.0</td>\n",
       "    </tr>\n",
       "    <tr>\n",
       "      <th>9013</th>\n",
       "      <td>6191.34</td>\n",
       "      <td>0.0</td>\n",
       "      <td>0.0</td>\n",
       "      <td>0.0</td>\n",
       "      <td>0.0</td>\n",
       "      <td>0.0</td>\n",
       "      <td>0.0</td>\n",
       "      <td>0.0</td>\n",
       "      <td>0.0</td>\n",
       "      <td>0.0</td>\n",
       "      <td>...</td>\n",
       "      <td>0.0</td>\n",
       "      <td>1.0</td>\n",
       "      <td>0.0</td>\n",
       "      <td>0.0</td>\n",
       "      <td>0.0</td>\n",
       "      <td>0.0</td>\n",
       "      <td>0.0</td>\n",
       "      <td>0.0</td>\n",
       "      <td>0.0</td>\n",
       "      <td>0.0</td>\n",
       "    </tr>\n",
       "    <tr>\n",
       "      <th>9022</th>\n",
       "      <td>651.42</td>\n",
       "      <td>0.0</td>\n",
       "      <td>0.0</td>\n",
       "      <td>0.0</td>\n",
       "      <td>0.0</td>\n",
       "      <td>0.0</td>\n",
       "      <td>0.0</td>\n",
       "      <td>0.0</td>\n",
       "      <td>0.0</td>\n",
       "      <td>0.0</td>\n",
       "      <td>...</td>\n",
       "      <td>0.0</td>\n",
       "      <td>0.0</td>\n",
       "      <td>0.0</td>\n",
       "      <td>0.0</td>\n",
       "      <td>0.0</td>\n",
       "      <td>0.0</td>\n",
       "      <td>0.0</td>\n",
       "      <td>0.0</td>\n",
       "      <td>0.0</td>\n",
       "      <td>0.0</td>\n",
       "    </tr>\n",
       "  </tbody>\n",
       "</table>\n",
       "<p>5 rows × 98 columns</p>\n",
       "</div>"
      ],
      "text/plain": [
       "       Q1_2016  Allamakee  Appanoose  Audubon  Benton  Black Hawk  Boone  \\\n",
       "9001  22355.76        0.0        0.0      0.0     0.0         0.0    0.0   \n",
       "9002  28283.60        0.0        0.0      0.0     0.0         0.0    0.0   \n",
       "9010    697.44        0.0        0.0      0.0     0.0         0.0    0.0   \n",
       "9013   6191.34        0.0        0.0      0.0     0.0         0.0    0.0   \n",
       "9022    651.42        0.0        0.0      0.0     0.0         0.0    0.0   \n",
       "\n",
       "      Bremer  Buchanan  Buena Vista   ...    Wapello  Warren  Washington  \\\n",
       "9001     0.0       0.0          0.0   ...        0.0     0.0         0.0   \n",
       "9002     0.0       0.0          0.0   ...        0.0     0.0         0.0   \n",
       "9010     0.0       0.0          0.0   ...        0.0     1.0         0.0   \n",
       "9013     0.0       0.0          0.0   ...        0.0     1.0         0.0   \n",
       "9022     0.0       0.0          0.0   ...        0.0     0.0         0.0   \n",
       "\n",
       "      Wayne  Webster  Winnebago  Winneshiek  Woodbury  Worth  Wright  \n",
       "9001    0.0      0.0        0.0         0.0       0.0    0.0     0.0  \n",
       "9002    0.0      0.0        0.0         0.0       0.0    0.0     0.0  \n",
       "9010    0.0      0.0        0.0         0.0       0.0    0.0     0.0  \n",
       "9013    0.0      0.0        0.0         0.0       0.0    0.0     0.0  \n",
       "9022    0.0      0.0        0.0         0.0       0.0    0.0     0.0  \n",
       "\n",
       "[5 rows x 98 columns]"
      ]
     },
     "execution_count": 702,
     "metadata": {},
     "output_type": "execute_result"
    }
   ],
   "source": [
    "goodiowa2016.head()"
   ]
  },
  {
   "cell_type": "code",
   "execution_count": 593,
   "metadata": {
    "collapsed": false
   },
   "outputs": [
    {
     "data": {
      "text/html": [
       "<div>\n",
       "<table border=\"1\" class=\"dataframe\">\n",
       "  <thead>\n",
       "    <tr style=\"text-align: right;\">\n",
       "      <th></th>\n",
       "      <th>Q1_2016</th>\n",
       "      <th>Adams</th>\n",
       "      <th>Allamakee</th>\n",
       "      <th>Appanoose</th>\n",
       "      <th>Audubon</th>\n",
       "      <th>Benton</th>\n",
       "      <th>Black Hawk</th>\n",
       "      <th>Boone</th>\n",
       "      <th>Bremer</th>\n",
       "      <th>Buchanan</th>\n",
       "      <th>...</th>\n",
       "      <th>Wapello</th>\n",
       "      <th>Warren</th>\n",
       "      <th>Washington</th>\n",
       "      <th>Wayne</th>\n",
       "      <th>Webster</th>\n",
       "      <th>Winnebago</th>\n",
       "      <th>Winneshiek</th>\n",
       "      <th>Woodbury</th>\n",
       "      <th>Worth</th>\n",
       "      <th>Wright</th>\n",
       "    </tr>\n",
       "  </thead>\n",
       "  <tbody>\n",
       "    <tr>\n",
       "      <th>9001</th>\n",
       "      <td>708.24</td>\n",
       "      <td>0.0</td>\n",
       "      <td>0.0</td>\n",
       "      <td>0.0</td>\n",
       "      <td>0.0</td>\n",
       "      <td>0.0</td>\n",
       "      <td>0.0</td>\n",
       "      <td>0.0</td>\n",
       "      <td>0.0</td>\n",
       "      <td>0.0</td>\n",
       "      <td>...</td>\n",
       "      <td>0.0</td>\n",
       "      <td>0.0</td>\n",
       "      <td>0.0</td>\n",
       "      <td>0.0</td>\n",
       "      <td>0.0</td>\n",
       "      <td>0.0</td>\n",
       "      <td>0.0</td>\n",
       "      <td>0.0</td>\n",
       "      <td>0.0</td>\n",
       "      <td>0.0</td>\n",
       "    </tr>\n",
       "    <tr>\n",
       "      <th>9002</th>\n",
       "      <td>1382.64</td>\n",
       "      <td>0.0</td>\n",
       "      <td>0.0</td>\n",
       "      <td>0.0</td>\n",
       "      <td>0.0</td>\n",
       "      <td>0.0</td>\n",
       "      <td>0.0</td>\n",
       "      <td>0.0</td>\n",
       "      <td>0.0</td>\n",
       "      <td>0.0</td>\n",
       "      <td>...</td>\n",
       "      <td>0.0</td>\n",
       "      <td>0.0</td>\n",
       "      <td>0.0</td>\n",
       "      <td>0.0</td>\n",
       "      <td>0.0</td>\n",
       "      <td>0.0</td>\n",
       "      <td>0.0</td>\n",
       "      <td>0.0</td>\n",
       "      <td>0.0</td>\n",
       "      <td>0.0</td>\n",
       "    </tr>\n",
       "    <tr>\n",
       "      <th>9010</th>\n",
       "      <td>177.48</td>\n",
       "      <td>0.0</td>\n",
       "      <td>0.0</td>\n",
       "      <td>0.0</td>\n",
       "      <td>0.0</td>\n",
       "      <td>0.0</td>\n",
       "      <td>0.0</td>\n",
       "      <td>0.0</td>\n",
       "      <td>0.0</td>\n",
       "      <td>0.0</td>\n",
       "      <td>...</td>\n",
       "      <td>0.0</td>\n",
       "      <td>1.0</td>\n",
       "      <td>0.0</td>\n",
       "      <td>0.0</td>\n",
       "      <td>0.0</td>\n",
       "      <td>0.0</td>\n",
       "      <td>0.0</td>\n",
       "      <td>0.0</td>\n",
       "      <td>0.0</td>\n",
       "      <td>0.0</td>\n",
       "    </tr>\n",
       "    <tr>\n",
       "      <th>9013</th>\n",
       "      <td>361.56</td>\n",
       "      <td>0.0</td>\n",
       "      <td>0.0</td>\n",
       "      <td>0.0</td>\n",
       "      <td>0.0</td>\n",
       "      <td>0.0</td>\n",
       "      <td>0.0</td>\n",
       "      <td>0.0</td>\n",
       "      <td>0.0</td>\n",
       "      <td>0.0</td>\n",
       "      <td>...</td>\n",
       "      <td>0.0</td>\n",
       "      <td>1.0</td>\n",
       "      <td>0.0</td>\n",
       "      <td>0.0</td>\n",
       "      <td>0.0</td>\n",
       "      <td>0.0</td>\n",
       "      <td>0.0</td>\n",
       "      <td>0.0</td>\n",
       "      <td>0.0</td>\n",
       "      <td>0.0</td>\n",
       "    </tr>\n",
       "    <tr>\n",
       "      <th>9023</th>\n",
       "      <td>633.36</td>\n",
       "      <td>0.0</td>\n",
       "      <td>0.0</td>\n",
       "      <td>0.0</td>\n",
       "      <td>0.0</td>\n",
       "      <td>0.0</td>\n",
       "      <td>0.0</td>\n",
       "      <td>0.0</td>\n",
       "      <td>0.0</td>\n",
       "      <td>0.0</td>\n",
       "      <td>...</td>\n",
       "      <td>0.0</td>\n",
       "      <td>0.0</td>\n",
       "      <td>0.0</td>\n",
       "      <td>0.0</td>\n",
       "      <td>0.0</td>\n",
       "      <td>0.0</td>\n",
       "      <td>0.0</td>\n",
       "      <td>0.0</td>\n",
       "      <td>0.0</td>\n",
       "      <td>0.0</td>\n",
       "    </tr>\n",
       "  </tbody>\n",
       "</table>\n",
       "<p>5 rows × 99 columns</p>\n",
       "</div>"
      ],
      "text/plain": [
       "      Q1_2016  Adams  Allamakee  Appanoose  Audubon  Benton  Black Hawk  \\\n",
       "9001   708.24    0.0        0.0        0.0      0.0     0.0         0.0   \n",
       "9002  1382.64    0.0        0.0        0.0      0.0     0.0         0.0   \n",
       "9010   177.48    0.0        0.0        0.0      0.0     0.0         0.0   \n",
       "9013   361.56    0.0        0.0        0.0      0.0     0.0         0.0   \n",
       "9023   633.36    0.0        0.0        0.0      0.0     0.0         0.0   \n",
       "\n",
       "      Boone  Bremer  Buchanan   ...    Wapello  Warren  Washington  Wayne  \\\n",
       "9001    0.0     0.0       0.0   ...        0.0     0.0         0.0    0.0   \n",
       "9002    0.0     0.0       0.0   ...        0.0     0.0         0.0    0.0   \n",
       "9010    0.0     0.0       0.0   ...        0.0     1.0         0.0    0.0   \n",
       "9013    0.0     0.0       0.0   ...        0.0     1.0         0.0    0.0   \n",
       "9023    0.0     0.0       0.0   ...        0.0     0.0         0.0    0.0   \n",
       "\n",
       "      Webster  Winnebago  Winneshiek  Woodbury  Worth  Wright  \n",
       "9001      0.0        0.0         0.0       0.0    0.0     0.0  \n",
       "9002      0.0        0.0         0.0       0.0    0.0     0.0  \n",
       "9010      0.0        0.0         0.0       0.0    0.0     0.0  \n",
       "9013      0.0        0.0         0.0       0.0    0.0     0.0  \n",
       "9023      0.0        0.0         0.0       0.0    0.0     0.0  \n",
       "\n",
       "[5 rows x 99 columns]"
      ]
     },
     "execution_count": 593,
     "metadata": {},
     "output_type": "execute_result"
    }
   ],
   "source": [
    "goodiowa2016.head()"
   ]
  },
  {
   "cell_type": "code",
   "execution_count": 703,
   "metadata": {
    "collapsed": true
   },
   "outputs": [],
   "source": [
    "#46 Create X for making 2016 preditions  \n",
    "\n",
    "X_2016 = goodiowa2016"
   ]
  },
  {
   "cell_type": "code",
   "execution_count": 721,
   "metadata": {
    "collapsed": false
   },
   "outputs": [
    {
     "name": "stdout",
     "output_type": "stream",
     "text": [
      "291464760.886\n"
     ]
    }
   ],
   "source": [
    "#  projection for 2016 using the dummy variable set (ran this after running the code for 2015)\n",
    "# ran it for L1 and for L2.\n",
    "# I summed the y_pred to get the projections for 2016.  \n",
    "\n",
    "#from sklearn.cross_validation import train_test_split\n",
    "#X_train, X_test, y_train, y_test = train_test_split(X, y, random_state=1)\n",
    "\n",
    "\n",
    "# build a linear regression model\n",
    "#from sklearn.linear_model import LinearRegression\n",
    "#linreg = LinearRegression()\n",
    "#linreg.fit(X_train, y_train)\n",
    "\n",
    "# examine the coefficients\n",
    "# print linreg.coef_\n",
    "\n",
    "# make predictions\n",
    "y_pred = linreg.predict(X_2016)\n",
    "\n",
    "# calculate RMSE\n",
    "#from sklearn import metrics\n",
    "#print np.sqrt(metrics.mean_squared_error(y_test, y_pred))\n",
    "#print metrics.r2_score(y_test, y_pred)\n",
    "\n",
    "print y_pred.sum()"
   ]
  },
  {
   "cell_type": "code",
   "execution_count": 705,
   "metadata": {
    "collapsed": false
   },
   "outputs": [
    {
     "name": "stdout",
     "output_type": "stream",
     "text": [
      "123718.271738\n",
      "0.979243999626\n"
     ]
    }
   ],
   "source": [
    "#47 put X and y (with dummy variables to build the model with 2015 input )\n",
    "\n",
    "from sklearn.cross_validation import train_test_split\n",
    "X_train, X_test, y_train, y_test = train_test_split(X, y, random_state=1)\n",
    "\n",
    "\n",
    "# build a linear regression model\n",
    "from sklearn.linear_model import LinearRegression\n",
    "linreg = LinearRegression()\n",
    "linreg.fit(X_train, y_train)\n",
    "\n",
    "# examine the coefficients\n",
    "# print linreg.coef_\n",
    "\n",
    "# make predictions\n",
    "y_pred = linreg.predict(X_test)\n",
    "\n",
    "# calculate RMSE\n",
    "from sklearn import metrics\n",
    "print np.sqrt(metrics.mean_squared_error(y_test, y_pred))\n",
    "print metrics.r2_score(y_test, y_pred)"
   ]
  },
  {
   "cell_type": "code",
   "execution_count": 706,
   "metadata": {
    "collapsed": false
   },
   "outputs": [
    {
     "name": "stdout",
     "output_type": "stream",
     "text": [
      "123718.271738\n"
     ]
    }
   ],
   "source": [
    "#48 see if model can be improved using Ridge regression print out mean squared error start with alpha = 0\n",
    "\n",
    "from sklearn.linear_model import Ridge\n",
    "ridgereg = Ridge(alpha=0, normalize=True)\n",
    "ridgereg.fit(X_train, y_train)\n",
    "y_pred = ridgereg.predict(X_test)\n",
    "print np.sqrt(metrics.mean_squared_error(y_test, y_pred))"
   ]
  },
  {
   "cell_type": "code",
   "execution_count": 723,
   "metadata": {
    "collapsed": false
   },
   "outputs": [
    {
     "name": "stdout",
     "output_type": "stream",
     "text": [
      "0.990705512468\n",
      "82789.3998272\n"
     ]
    }
   ],
   "source": [
    "#49 use Ridge with alpha = .1  (it did improve)\n",
    "\n",
    "from sklearn.linear_model import Ridge\n",
    "ridgereg = Ridge(alpha=.1, normalize=True)\n",
    "ridgereg.fit(X_train, y_train)\n",
    "y_pred = ridgereg.predict(X_test)\n",
    "print metrics.r2_score(y_test, y_pred)\n",
    "print np.sqrt(metrics.mean_squared_error(y_test, y_pred))"
   ]
  },
  {
   "cell_type": "code",
   "execution_count": 708,
   "metadata": {
    "collapsed": false
   },
   "outputs": [
    {
     "name": "stdout",
     "output_type": "stream",
     "text": [
      "117217.650737\n",
      "0.981367891403\n",
      "102277403.12\n",
      "97327652.2\n"
     ]
    }
   ],
   "source": [
    "#50 use Lasso to see how well it works. alpha = 100\n",
    "\n",
    "from sklearn.linear_model import Lasso\n",
    "lassoreg = Lasso(alpha=100, normalize=True)\n",
    "lassoreg.fit(X_train, y_train)\n",
    "# calculate RMSE (for alpha=0.01)\n",
    "y_pred = lassoreg.predict(X_test)\n",
    "print np.sqrt(metrics.mean_squared_error(y_test, y_pred))\n",
    "print metrics.r2_score(y_test, y_pred)\n",
    "print y_pred.sum()\n",
    "print y_test.sum()"
   ]
  },
  {
   "cell_type": "code",
   "execution_count": null,
   "metadata": {
    "collapsed": true
   },
   "outputs": [],
   "source": []
  },
  {
   "cell_type": "code",
   "execution_count": 709,
   "metadata": {
    "collapsed": false
   },
   "outputs": [
    {
     "name": "stdout",
     "output_type": "stream",
     "text": [
      "290964097.393\n"
     ]
    }
   ],
   "source": [
    "#51  Lasso with alpha = 100 for prediction of 2016\n",
    "\n",
    "from sklearn.linear_model import Lasso\n",
    "#lassoreg = Lasso(alpha=100, normalize=True)\n",
    "#lassoreg.fit(X_train, y_train)\n",
    "# calculate RMSE (for alpha=0.01)\n",
    "y_pred = lassoreg.predict(X_2016)\n",
    "#print np.sqrt(metrics.mean_squared_error(y_test, y_pred))\n",
    "#print metrics.r2_score(y_test, y_pred)\n",
    "print y_pred.sum()\n",
    "#print y_test.sum()"
   ]
  },
  {
   "cell_type": "code",
   "execution_count": 724,
   "metadata": {
    "collapsed": false
   },
   "outputs": [
    {
     "name": "stdout",
     "output_type": "stream",
     "text": [
      "287382841.913\n"
     ]
    }
   ],
   "source": [
    "# use Ridge with alpha = .1  for 2016 prediction\n",
    "\n",
    "from sklearn.linear_model import Ridge\n",
    "#ridgereg = Ridge(alpha=.1, normalize=True)\n",
    "#ridgereg.fit(X_train, y_train)\n",
    "y_pred = ridgereg.predict(X_2016)\n",
    "#print metrics.r2_score(y_test, y_pred)\n",
    "#print np.sqrt(metrics.mean_squared_error(y_test, y_pred))\n",
    "print y_pred.sum()"
   ]
  },
  {
   "cell_type": "code",
   "execution_count": 710,
   "metadata": {
    "collapsed": false
   },
   "outputs": [],
   "source": [
    "x = Q1_2015.groupby('county').sales.sum()"
   ]
  },
  {
   "cell_type": "markdown",
   "metadata": {},
   "source": [
    "### create some visuals."
   ]
  },
  {
   "cell_type": "code",
   "execution_count": 711,
   "metadata": {
    "collapsed": false
   },
   "outputs": [
    {
     "data": {
      "text/plain": [
       "18524        Adair\n",
       "19068        Adams\n",
       "7386     Allamakee\n",
       "7087     Appanoose\n",
       "31989      Audubon\n",
       "Name: county, dtype: object"
      ]
     },
     "execution_count": 711,
     "metadata": {},
     "output_type": "execute_result"
    }
   ],
   "source": [
    "# Create a list of counties\n",
    "\n",
    "counties = dropped_na_rows['county']\n",
    "counties = counties.drop_duplicates()\n",
    "counties.sort_values(inplace=True)\n",
    "counties.head()\n",
    "\n",
    "\n",
    "#Q1salesvCounty"
   ]
  },
  {
   "cell_type": "code",
   "execution_count": 712,
   "metadata": {
    "collapsed": false
   },
   "outputs": [],
   "source": [
    "# Sales list for plotting with the counties.\n",
    "\n",
    "Q1_county_sales_dict = Q1_2015.groupby('county').sales.sum().to_dict()"
   ]
  },
  {
   "cell_type": "code",
   "execution_count": 713,
   "metadata": {
    "collapsed": false
   },
   "outputs": [
    {
     "name": "stderr",
     "output_type": "stream",
     "text": [
      "/Users/user/anaconda2/lib/python2.7/site-packages/ipykernel/__main__.py:5: FutureWarning: sort(columns=....) is deprecated, use sort_values(by=.....)\n"
     ]
    },
    {
     "data": {
      "text/html": [
       "<div>\n",
       "<table border=\"1\" class=\"dataframe\">\n",
       "  <thead>\n",
       "    <tr style=\"text-align: right;\">\n",
       "      <th></th>\n",
       "      <th>index</th>\n",
       "      <th>county</th>\n",
       "      <th>Q1_sales</th>\n",
       "    </tr>\n",
       "  </thead>\n",
       "  <tbody>\n",
       "    <tr>\n",
       "      <th>0</th>\n",
       "      <td>11</td>\n",
       "      <td>Adair</td>\n",
       "      <td>103556.31</td>\n",
       "    </tr>\n",
       "    <tr>\n",
       "      <th>1</th>\n",
       "      <td>7</td>\n",
       "      <td>Allamakee</td>\n",
       "      <td>155988.96</td>\n",
       "    </tr>\n",
       "    <tr>\n",
       "      <th>2</th>\n",
       "      <td>94</td>\n",
       "      <td>Appanoose</td>\n",
       "      <td>151755.48</td>\n",
       "    </tr>\n",
       "    <tr>\n",
       "      <th>3</th>\n",
       "      <td>90</td>\n",
       "      <td>Audubon</td>\n",
       "      <td>39274.46</td>\n",
       "    </tr>\n",
       "    <tr>\n",
       "      <th>4</th>\n",
       "      <td>87</td>\n",
       "      <td>Benton</td>\n",
       "      <td>185406.66</td>\n",
       "    </tr>\n",
       "  </tbody>\n",
       "</table>\n",
       "</div>"
      ],
      "text/plain": [
       "   index     county   Q1_sales\n",
       "0     11      Adair  103556.31\n",
       "1      7  Allamakee  155988.96\n",
       "2     94  Appanoose  151755.48\n",
       "3     90    Audubon   39274.46\n",
       "4     87     Benton  185406.66"
      ]
     },
     "execution_count": 713,
     "metadata": {},
     "output_type": "execute_result"
    }
   ],
   "source": [
    "# create data frame\n",
    "Q1_county_sales_dict\n",
    "\n",
    "rrr = pd.DataFrame(Q1_county_sales_dict.items(),columns=['county', 'Q1_sales'])\n",
    "rrr \n",
    "rrr.sort('county',inplace=True)\n",
    "rrr.reset_index(inplace=True)\n",
    "rrr.head()\n",
    "#pd.DataFrame(d.items(), columns=['Date', 'DateValue'])"
   ]
  },
  {
   "cell_type": "code",
   "execution_count": 714,
   "metadata": {
    "collapsed": false
   },
   "outputs": [
    {
     "data": {
      "image/png": "[encoded data removed]",
      "text/plain": [
       "<matplotlib.figure.Figure at 0x167d1b110>"
      ]
     },
     "metadata": {},
     "output_type": "display_data"
    }
   ],
   "source": [
    "# plot the counties with the sales\n",
    "\n",
    "import matplotlib.pyplot as plt\n",
    "#ax = rrr[['county','Q1_sales']].plot(kind='bar', title =\"2015 Q1_sales\", figsize=(15, 10), legend=True, fontsize=12)\n",
    "#ax.set_xlabel(\"County\", fontsize=12)\n",
    "#ax.set_ylabel(\"2015 Q1 sales\", fontsize=12)\n",
    "#plt.show()\n",
    "plt.figure(figsize=(10,12))\n",
    "sns.barplot(y='county', x=\"Q1_sales\", data=rrr, label='county', palette='Greens')\n",
    "plt.yticks(size=8)\n",
    "plt.savefig('county sales 2015 (large data set.jpg')\n",
    "plt.show()"
   ]
  },
  {
   "cell_type": "code",
   "execution_count": 715,
   "metadata": {
    "collapsed": true
   },
   "outputs": [],
   "source": [
    "# create list of quarter numbers\n",
    "Q1234=[]\n",
    "Q1234.append(1)\n",
    "Q1234.append(2)\n",
    "Q1234.append(3)\n",
    "Q1234.append(4)"
   ]
  },
  {
   "cell_type": "code",
   "execution_count": 613,
   "metadata": {
    "collapsed": false
   },
   "outputs": [
    {
     "data": {
      "text/plain": [
       "[1, 2, 3, 4]"
      ]
     },
     "execution_count": 613,
     "metadata": {},
     "output_type": "execute_result"
    }
   ],
   "source": [
    "Q1234"
   ]
  },
  {
   "cell_type": "code",
   "execution_count": 716,
   "metadata": {
    "collapsed": false
   },
   "outputs": [
    {
     "data": {
      "image/png": "[encoded data removed]",
      "text/plain": [
       "<matplotlib.figure.Figure at 0x1207f0450>"
      ]
     },
     "metadata": {},
     "output_type": "display_data"
    }
   ],
   "source": [
    "# create plot of 2015 quarterly sales\n",
    "\n",
    "plt.bar(Q1234,quarterlist2015)\n",
    "plt.xlabel(\"2015 Quarters\")\n",
    "plt.title(\"2015 Quarterly Sales Trend.\")\n",
    "plt.ylabel(\"Sales in millions of dollars(10% data set) \")\n",
    "plt.savefig('quarterly sales 2015 (large data set.jpg')\n",
    "plt.show()"
   ]
  },
  {
   "cell_type": "code",
   "execution_count": 717,
   "metadata": {
    "collapsed": true
   },
   "outputs": [],
   "source": [
    "quarterlist2015.append(Q1_2016['sales'].sum()/1000000)\n",
    "\n"
   ]
  },
  {
   "cell_type": "code",
   "execution_count": 718,
   "metadata": {
    "collapsed": false
   },
   "outputs": [
    {
     "data": {
      "text/plain": [
       "[62.96131698002593,\n",
       " 72.34904149003236,\n",
       " 68.59421117003636,\n",
       " 80.10077482003047,\n",
       " 64.74581221002785]"
      ]
     },
     "execution_count": 718,
     "metadata": {},
     "output_type": "execute_result"
    }
   ],
   "source": [
    "# add 2016 first quarter sales to plot \n",
    "quarterlist2015"
   ]
  },
  {
   "cell_type": "code",
   "execution_count": 719,
   "metadata": {
    "collapsed": true
   },
   "outputs": [],
   "source": [
    "Q1234.append(5)"
   ]
  },
  {
   "cell_type": "code",
   "execution_count": 720,
   "metadata": {
    "collapsed": false
   },
   "outputs": [
    {
     "data": {
      "image/png": "[encoded data removed]",
      "text/plain": [
       "<matplotlib.figure.Figure at 0x1213d0350>"
      ]
     },
     "metadata": {},
     "output_type": "display_data"
    }
   ],
   "source": [
    "# plot 2015 and first quarter 2016.  \n",
    "\n",
    "plt.bar(Q1234,quarterlist2015)\n",
    "plt.xlabel(\"2015 Quarters and Q1 2016\")\n",
    "plt.title(\"2015 Quarters and 2016 Q1 Sales Trend.\")\n",
    "plt.ylabel(\"Sales in millions of dollars(10% data set) \")\n",
    "plt.savefig('quarterly sales 2015 with Q1 2016 (large data set.jpg')\n",
    "plt.show()"
   ]
  },
  {
   "cell_type": "code",
   "execution_count": null,
   "metadata": {
    "collapsed": true
   },
   "outputs": [],
   "source": []
  },
  {
   "cell_type": "code",
   "execution_count": null,
   "metadata": {
    "collapsed": true
   },
   "outputs": [],
   "source": []
  },
  {
   "cell_type": "code",
   "execution_count": 725,
   "metadata": {
    "collapsed": false
   },
   "outputs": [
    {
     "data": {
      "text/plain": [
       "(1283,)"
      ]
     },
     "execution_count": 725,
     "metadata": {},
     "output_type": "execute_result"
    }
   ],
   "source": [
    "X_Q1 = goodiowastores['Q1_2015']\n",
    "X_Q1.shape\n",
    "\n"
   ]
  },
  {
   "cell_type": "code",
   "execution_count": null,
   "metadata": {
    "collapsed": true
   },
   "outputs": [],
   "source": []
  }
 ],
 "metadata": {
  "anaconda-cloud": {},
  "kernelspec": {
   "display_name": "Python [conda root]",
   "language": "python",
   "name": "conda-root-py"
  },
  "language_info": {
   "codemirror_mode": {
    "name": "ipython",
    "version": 2
   },
   "file_extension": ".py",
   "mimetype": "text/x-python",
   "name": "python",
   "nbconvert_exporter": "python",
   "pygments_lexer": "ipython2",
   "version": "2.7.12"
  }
 },
 "nbformat": 4,
 "nbformat_minor": 1
}
